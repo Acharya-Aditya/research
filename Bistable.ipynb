{
 "cells": [
  {
   "cell_type": "code",
   "execution_count": 2,
   "metadata": {},
   "outputs": [],
   "source": [
    "import numpy as np\n",
    "import matplotlib.pyplot as plt\n",
    "import random"
   ]
  },
  {
   "cell_type": "code",
   "execution_count": null,
   "metadata": {},
   "outputs": [],
   "source": [
    "k1 = 93.43\n",
    "k2 = 2539\n",
    "k3 = 481.6\n",
    "k4 = 1183\n",
    "k5 = 1556\n",
    "k6 = 121\n",
    "k7 = 0.02213\n",
    "kb = 1689\n",
    "k9 = 85842\n",
    "epsilons1 = 1\n",
    "epsilons2 = 1\n",
    "epsilons3 = 1\n",
    "Fs1 = 2500\n",
    "Fs2 = 1500"
   ]
  }
 ],
 "metadata": {
  "kernelspec": {
   "display_name": "research",
   "language": "python",
   "name": "python3"
  },
  "language_info": {
   "codemirror_mode": {
    "name": "ipython",
    "version": 3
   },
   "file_extension": ".py",
   "mimetype": "text/x-python",
   "name": "python",
   "nbconvert_exporter": "python",
   "pygments_lexer": "ipython3",
   "version": "3.13.1"
  }
 },
 "nbformat": 4,
 "nbformat_minor": 2
}
