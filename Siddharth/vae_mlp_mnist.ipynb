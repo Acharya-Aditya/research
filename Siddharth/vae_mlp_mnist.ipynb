{
 "cells": [
  {
   "cell_type": "code",
   "execution_count": 1,
   "metadata": {},
   "outputs": [],
   "source": [
    "from dataclasses import dataclass\n",
    "from datetime import datetime\n",
    "\n",
    "import matplotlib.pyplot as plt\n",
    "import torch\n",
    "import torch.nn as nn\n",
    "import torch.nn.functional as F\n",
    "from torch.utils.tensorboard import SummaryWriter\n",
    "from torchvision import datasets\n",
    "from torchvision.transforms import v2\n",
    "from tqdm.auto import tqdm"
   ]
  },
  {
   "cell_type": "code",
   "execution_count": 2,
   "metadata": {},
   "outputs": [],
   "source": [
    "writer = SummaryWriter(f'runs/mnist/vae_{datetime.now().strftime(\"%Y%m%d-%H%M%S\")}')\n",
    "\n",
    "device = torch.device('cuda' if torch.cuda.is_available() else 'cpu')\n",
    "\n",
    "# Hyperparameters\n",
    "batch_size = 128\n",
    "learning_rate = 1e-3\n",
    "weight_decay = 1e-2\n",
    "num_epochs = 50\n",
    "latent_dim = 2\n",
    "hidden_dim = 512"
   ]
  },
  {
   "cell_type": "code",
   "execution_count": 3,
   "metadata": {},
   "outputs": [],
   "source": [
    "transform = v2.Compose([\n",
    "    v2.ToImage(), \n",
    "    v2.ToDtype(torch.float32, scale=True),\n",
    "    v2.Lambda(lambda x: x.view(-1) - 0.5),\n",
    "])"
   ]
  },
  {
   "cell_type": "code",
   "execution_count": 4,
   "metadata": {},
   "outputs": [
    {
     "data": {
      "text/plain": [
       "60000"
      ]
     },
     "execution_count": 4,
     "metadata": {},
     "output_type": "execute_result"
    }
   ],
   "source": [
    "# Download and load the training data\n",
    "train_data = datasets.MNIST(\n",
    "    '~/.pytorch/MNIST_data/', \n",
    "    download=True, \n",
    "    train=True, \n",
    "    transform=transform,\n",
    ")\n",
    "len(train_data)"
   ]
  },
  {
   "cell_type": "code",
   "execution_count": 5,
   "metadata": {},
   "outputs": [
    {
     "data": {
      "text/plain": [
       "10000"
      ]
     },
     "execution_count": 5,
     "metadata": {},
     "output_type": "execute_result"
    }
   ],
   "source": [
    "\n",
    "test_data = datasets.MNIST(\n",
    "    '~/.pytorch/MNIST_data/', \n",
    "    download=True, \n",
    "    train=False, \n",
    "    transform=transform,\n",
    ")\n",
    "len(test_data)"
   ]
  },
  {
   "cell_type": "code",
   "execution_count": 6,
   "metadata": {},
   "outputs": [],
   "source": [
    "# Create data loaders\n",
    "train_loader = torch.utils.data.DataLoader(\n",
    "    train_data, \n",
    "    batch_size=batch_size, \n",
    "    shuffle=True,\n",
    ")\n",
    "test_loader = torch.utils.data.DataLoader(\n",
    "    test_data, \n",
    "    batch_size=batch_size, \n",
    "    shuffle=False,\n",
    ")"
   ]
  },
  {
   "cell_type": "code",
   "execution_count": 7,
   "metadata": {},
   "outputs": [],
   "source": [
    "@dataclass\n",
    "class VAEOutput:\n",
    "    \"\"\"\n",
    "    Dataclass for VAE output.\n",
    "    \n",
    "    Attributes:\n",
    "        z_dist (torch.distributions.Distribution): The distribution of the latent variable z.\n",
    "        z_sample (torch.Tensor): The sampled value of the latent variable z.\n",
    "        x_recon (torch.Tensor): The reconstructed output from the VAE.\n",
    "        loss (torch.Tensor): The overall loss of the VAE.\n",
    "        loss_recon (torch.Tensor): The reconstruction loss component of the VAE loss.\n",
    "        loss_kl (torch.Tensor): The KL divergence component of the VAE loss.\n",
    "    \"\"\"\n",
    "    z_dist: torch.distributions.Distribution\n",
    "    z_sample: torch.Tensor\n",
    "    x_recon: torch.Tensor\n",
    "    \n",
    "    loss: torch.Tensor\n",
    "    loss_recon: torch.Tensor\n",
    "    loss_kl: torch.Tensor"
   ]
  },
  {
   "cell_type": "code",
   "execution_count": 8,
   "metadata": {},
   "outputs": [],
   "source": [
    "class VAE(nn.Module):\n",
    "    \"\"\"\n",
    "    Variational Autoencoder (VAE) class.\n",
    "    \n",
    "    Args:\n",
    "        input_dim (int): Dimensionality of the input data.\n",
    "        hidden_dim (int): Dimensionality of the hidden layer.\n",
    "        latent_dim (int): Dimensionality of the latent space.\n",
    "    \"\"\"\n",
    "    \n",
    "    def __init__(self, input_dim, hidden_dim, latent_dim):\n",
    "        super(VAE, self).__init__()\n",
    "                \n",
    "        self.encoder = nn.Sequential(\n",
    "            nn.Linear(input_dim, hidden_dim),\n",
    "            nn.SiLU(),  \n",
    "            nn.Linear(hidden_dim, hidden_dim // 2),\n",
    "            nn.SiLU(),  \n",
    "            nn.Linear(hidden_dim // 2, hidden_dim // 4),\n",
    "            nn.SiLU(),  \n",
    "            nn.Linear(hidden_dim // 4, hidden_dim // 8),\n",
    "            nn.SiLU(),  \n",
    "            nn.Linear(hidden_dim // 8, 2 * latent_dim), # 2 for mean and variance.\n",
    "        )\n",
    "        self.softplus = nn.Softplus()\n",
    "        \n",
    "        self.decoder = nn.Sequential(\n",
    "            nn.Linear(latent_dim, hidden_dim // 8),\n",
    "            nn.SiLU(),  \n",
    "            nn.Linear(hidden_dim // 8, hidden_dim // 4),\n",
    "            nn.SiLU(),  \n",
    "            nn.Linear(hidden_dim // 4, hidden_dim // 2),\n",
    "            nn.SiLU(),  \n",
    "            nn.Linear(hidden_dim // 2, hidden_dim),\n",
    "            nn.SiLU(),  \n",
    "            nn.Linear(hidden_dim, input_dim),\n",
    "            nn.Sigmoid(),\n",
    "        )\n",
    "        \n",
    "    def encode(self, x, eps: float = 1e-8):\n",
    "        \"\"\"\n",
    "        Encodes the input data into the latent space.\n",
    "        \n",
    "        Args:\n",
    "            x (torch.Tensor): Input data.\n",
    "            eps (float): Small value to avoid numerical instability.\n",
    "        \n",
    "        Returns:\n",
    "            torch.distributions.MultivariateNormal: Normal distribution of the encoded data.\n",
    "        \"\"\"\n",
    "        x = self.encoder(x)\n",
    "        mu, logvar = torch.chunk(x, 2, dim=-1)\n",
    "        scale = self.softplus(logvar) + eps\n",
    "        scale_tril = torch.diag_embed(scale)\n",
    "        \n",
    "        return torch.distributions.MultivariateNormal(mu, scale_tril=scale_tril)\n",
    "        \n",
    "    def reparameterize(self, dist):\n",
    "        \"\"\"\n",
    "        Reparameterizes the encoded data to sample from the latent space.\n",
    "        \n",
    "        Args:\n",
    "            dist (torch.distributions.MultivariateNormal): Normal distribution of the encoded data.\n",
    "\n",
    "        Returns:\n",
    "            torch.Tensor: Sampled data from the latent space.\n",
    "        \"\"\"\n",
    "        return dist.rsample()\n",
    "    \n",
    "    def decode(self, z):\n",
    "        \"\"\"\n",
    "        Decodes the data from the latent space to the original input space.\n",
    "        \n",
    "        Args:\n",
    "            z (torch.Tensor): Data in the latent space.\n",
    "        \n",
    "        Returns:\n",
    "            torch.Tensor: Reconstructed data in the original input space.\n",
    "        \"\"\"\n",
    "        return self.decoder(z)\n",
    "    \n",
    "    def forward(self, x, compute_loss: bool = True):\n",
    "        \"\"\"\n",
    "        Performs a forward pass of the VAE.\n",
    "        \n",
    "        Args:\n",
    "            x (torch.Tensor): Input data.\n",
    "            compute_loss (bool): Whether to compute the loss or not.\n",
    "        \n",
    "        Returns:\n",
    "            VAEOutput: VAE output dataclass.\n",
    "        \"\"\"\n",
    "        dist = self.encode(x)\n",
    "        z = self.reparameterize(dist)\n",
    "        recon_x = self.decode(z)\n",
    "        \n",
    "        if not compute_loss:\n",
    "            return VAEOutput(\n",
    "                z_dist=dist,\n",
    "                z_sample=z,\n",
    "                x_recon=recon_x,\n",
    "                loss=None,\n",
    "                loss_recon=None,\n",
    "                loss_kl=None,\n",
    "            )\n",
    "        \n",
    "        # compute loss terms \n",
    "        loss_recon = F.binary_cross_entropy(recon_x, x + 0.5, reduction='none').sum(-1).mean()\n",
    "        std_normal = torch.distributions.MultivariateNormal(\n",
    "            torch.zeros_like(z, device=z.device),\n",
    "            scale_tril=torch.eye(z.shape[-1], device=z.device).unsqueeze(0).expand(z.shape[0], -1, -1),\n",
    "        )\n",
    "        loss_kl = torch.distributions.kl.kl_divergence(dist, std_normal).mean()\n",
    "                \n",
    "        loss = loss_recon + loss_kl\n",
    "        \n",
    "        return VAEOutput(\n",
    "            z_dist=dist,\n",
    "            z_sample=z,\n",
    "            x_recon=recon_x,\n",
    "            loss=loss,\n",
    "            loss_recon=loss_recon,\n",
    "            loss_kl=loss_kl,\n",
    "        )"
   ]
  },
  {
   "cell_type": "code",
   "execution_count": 9,
   "metadata": {},
   "outputs": [
    {
     "name": "stdout",
     "output_type": "stream",
     "text": [
      "Number of parameters: 1,149,972\n"
     ]
    },
    {
     "data": {
      "text/plain": [
       "VAE(\n",
       "  (encoder): Sequential(\n",
       "    (0): Linear(in_features=784, out_features=512, bias=True)\n",
       "    (1): SiLU()\n",
       "    (2): Linear(in_features=512, out_features=256, bias=True)\n",
       "    (3): SiLU()\n",
       "    (4): Linear(in_features=256, out_features=128, bias=True)\n",
       "    (5): SiLU()\n",
       "    (6): Linear(in_features=128, out_features=64, bias=True)\n",
       "    (7): SiLU()\n",
       "    (8): Linear(in_features=64, out_features=4, bias=True)\n",
       "  )\n",
       "  (softplus): Softplus(beta=1.0, threshold=20.0)\n",
       "  (decoder): Sequential(\n",
       "    (0): Linear(in_features=2, out_features=64, bias=True)\n",
       "    (1): SiLU()\n",
       "    (2): Linear(in_features=64, out_features=128, bias=True)\n",
       "    (3): SiLU()\n",
       "    (4): Linear(in_features=128, out_features=256, bias=True)\n",
       "    (5): SiLU()\n",
       "    (6): Linear(in_features=256, out_features=512, bias=True)\n",
       "    (7): SiLU()\n",
       "    (8): Linear(in_features=512, out_features=784, bias=True)\n",
       "    (9): Sigmoid()\n",
       "  )\n",
       ")"
      ]
     },
     "execution_count": 9,
     "metadata": {},
     "output_type": "execute_result"
    }
   ],
   "source": [
    "model = VAE(input_dim=784, hidden_dim=hidden_dim, latent_dim=latent_dim).to(device)\n",
    "\n",
    "num_params = sum(p.numel() for p in model.parameters() if p.requires_grad)\n",
    "print(f'Number of parameters: {num_params:,}')\n",
    "\n",
    "model"
   ]
  },
  {
   "cell_type": "code",
   "execution_count": 10,
   "metadata": {},
   "outputs": [],
   "source": [
    "# create an optimizer object\n",
    "optimizer = torch.optim.AdamW(model.parameters(), lr=learning_rate, weight_decay=weight_decay)"
   ]
  },
  {
   "cell_type": "code",
   "execution_count": 11,
   "metadata": {},
   "outputs": [],
   "source": [
    "def train(model, dataloader, optimizer, prev_updates, writer=None):\n",
    "    \"\"\"\n",
    "    Trains the model on the given data.\n",
    "    \n",
    "    Args:\n",
    "        model (nn.Module): The model to train.\n",
    "        dataloader (torch.utils.data.DataLoader): The data loader.\n",
    "        loss_fn: The loss function.\n",
    "        optimizer: The optimizer.\n",
    "    \"\"\"\n",
    "    model.train()  # Set the model to training mode\n",
    "    \n",
    "    for batch_idx, (data, target) in enumerate(tqdm(dataloader)):\n",
    "        n_upd = prev_updates + batch_idx\n",
    "        \n",
    "        data = data.to(device)\n",
    "        \n",
    "        optimizer.zero_grad()  # Zero the gradients\n",
    "        \n",
    "        output = model(data)  # Forward pass\n",
    "        loss = output.loss\n",
    "        \n",
    "        loss.backward()\n",
    "        \n",
    "        if n_upd % 100 == 0:\n",
    "            # Calculate and log gradient norms\n",
    "            total_norm = 0.0\n",
    "            for p in model.parameters():\n",
    "                if p.grad is not None:\n",
    "                    param_norm = p.grad.data.norm(2)\n",
    "                    total_norm += param_norm.item() ** 2\n",
    "            total_norm = total_norm ** (1. / 2)\n",
    "        \n",
    "            print(f'Step {n_upd:,} (N samples: {n_upd*batch_size:,}), Loss: {loss.item():.4f} (Recon: {output.loss_recon.item():.4f}, KL: {output.loss_kl.item():.4f}) Grad: {total_norm:.4f}')\n",
    "\n",
    "            if writer is not None:\n",
    "                global_step = n_upd\n",
    "                writer.add_scalar('Loss/Train', loss.item(), global_step)\n",
    "                writer.add_scalar('Loss/Train/BCE', output.loss_recon.item(), global_step)\n",
    "                writer.add_scalar('Loss/Train/KLD', output.loss_kl.item(), global_step)\n",
    "                writer.add_scalar('GradNorm/Train', total_norm, global_step)\n",
    "            \n",
    "        # gradient clipping\n",
    "        torch.nn.utils.clip_grad_norm_(model.parameters(), 1.0)    \n",
    "        \n",
    "        optimizer.step()  # Update the model parameters\n",
    "        \n",
    "    return prev_updates + len(dataloader)"
   ]
  },
  {
   "cell_type": "code",
   "execution_count": 12,
   "metadata": {},
   "outputs": [],
   "source": [
    "def test(model, dataloader, cur_step, writer=None):\n",
    "    \"\"\"\n",
    "    Tests the model on the given data.\n",
    "    \n",
    "    Args:\n",
    "        model (nn.Module): The model to test.\n",
    "        dataloader (torch.utils.data.DataLoader): The data loader.\n",
    "        cur_step (int): The current step.\n",
    "        writer: The TensorBoard writer.\n",
    "    \"\"\"\n",
    "    model.eval()  # Set the model to evaluation mode\n",
    "    test_loss = 0\n",
    "    test_recon_loss = 0\n",
    "    test_kl_loss = 0\n",
    "    \n",
    "    with torch.no_grad():\n",
    "        for data, target in tqdm(dataloader, desc='Testing'):\n",
    "            data = data.to(device)\n",
    "            data = data.view(data.size(0), -1)  # Flatten the data\n",
    "            \n",
    "            output = model(data, compute_loss=True)  # Forward pass\n",
    "            \n",
    "            test_loss += output.loss.item()\n",
    "            test_recon_loss += output.loss_recon.item()\n",
    "            test_kl_loss += output.loss_kl.item()\n",
    "            \n",
    "    test_loss /= len(dataloader)\n",
    "    test_recon_loss /= len(dataloader)\n",
    "    test_kl_loss /= len(dataloader)\n",
    "    print(f'====> Test set loss: {test_loss:.4f} (BCE: {test_recon_loss:.4f}, KLD: {test_kl_loss:.4f})')\n",
    "    \n",
    "    if writer is not None:\n",
    "        writer.add_scalar('Loss/Test', test_loss, global_step=cur_step)\n",
    "        writer.add_scalar('Loss/Test/BCE', output.loss_recon.item(), global_step=cur_step)\n",
    "        writer.add_scalar('Loss/Test/KLD', output.loss_kl.item(), global_step=cur_step)\n",
    "        \n",
    "        # Log reconstructions\n",
    "        writer.add_images('Test/Reconstructions', output.x_recon.view(-1, 1, 28, 28), global_step=cur_step)\n",
    "        writer.add_images('Test/Originals', data.view(-1, 1, 28, 28), global_step=cur_step)\n",
    "        \n",
    "        # Log random samples from the latent space\n",
    "        z = torch.randn(16, latent_dim).to(device)\n",
    "        samples = model.decode(z)\n",
    "        writer.add_images('Test/Samples', samples.view(-1, 1, 28, 28), global_step=cur_step)"
   ]
  },
  {
   "cell_type": "code",
   "execution_count": 13,
   "metadata": {},
   "outputs": [
    {
     "name": "stdout",
     "output_type": "stream",
     "text": [
      "Epoch 1/50\n"
     ]
    },
    {
     "data": {
      "application/vnd.jupyter.widget-view+json": {
       "model_id": "423d7f0804c14e68a67710938273b79a",
       "version_major": 2,
       "version_minor": 0
      },
      "text/plain": [
       "  0%|          | 0/469 [00:00<?, ?it/s]"
      ]
     },
     "metadata": {},
     "output_type": "display_data"
    },
    {
     "name": "stdout",
     "output_type": "stream",
     "text": [
      "Step 0 (N samples: 0), Loss: 543.6483 (Recon: 543.4820, KL: 0.1663) Grad: 13.2188\n",
      "Step 100 (N samples: 12,800), Loss: 186.3741 (Recon: 184.5418, KL: 1.8323) Grad: 24.4854\n",
      "Step 200 (N samples: 25,600), Loss: 183.4187 (Recon: 181.1068, KL: 2.3119) Grad: 11.6981\n",
      "Step 300 (N samples: 38,400), Loss: 176.1134 (Recon: 173.7852, KL: 2.3281) Grad: 30.3508\n",
      "Step 400 (N samples: 51,200), Loss: 176.7013 (Recon: 172.5607, KL: 4.1406) Grad: 36.3255\n"
     ]
    },
    {
     "data": {
      "application/vnd.jupyter.widget-view+json": {
       "model_id": "2e4ef3ae28214b99b4b0113bb8a05a6d",
       "version_major": 2,
       "version_minor": 0
      },
      "text/plain": [
       "Testing:   0%|          | 0/79 [00:00<?, ?it/s]"
      ]
     },
     "metadata": {},
     "output_type": "display_data"
    },
    {
     "name": "stdout",
     "output_type": "stream",
     "text": [
      "====> Test set loss: 169.8323 (BCE: 165.3007, KLD: 4.5315)\n",
      "Epoch 2/50\n"
     ]
    },
    {
     "data": {
      "application/vnd.jupyter.widget-view+json": {
       "model_id": "0b52a4585d3548f19495cb1bd6edca8f",
       "version_major": 2,
       "version_minor": 0
      },
      "text/plain": [
       "  0%|          | 0/469 [00:00<?, ?it/s]"
      ]
     },
     "metadata": {},
     "output_type": "display_data"
    },
    {
     "name": "stdout",
     "output_type": "stream",
     "text": [
      "Step 500 (N samples: 64,000), Loss: 171.0332 (Recon: 166.4832, KL: 4.5500) Grad: 58.0120\n",
      "Step 600 (N samples: 76,800), Loss: 166.7722 (Recon: 162.1496, KL: 4.6226) Grad: 60.3045\n",
      "Step 700 (N samples: 89,600), Loss: 159.8255 (Recon: 154.5374, KL: 5.2882) Grad: 76.0279\n",
      "Step 800 (N samples: 102,400), Loss: 166.7115 (Recon: 161.5338, KL: 5.1777) Grad: 47.6451\n",
      "Step 900 (N samples: 115,200), Loss: 152.5492 (Recon: 147.2328, KL: 5.3164) Grad: 44.1373\n"
     ]
    },
    {
     "data": {
      "application/vnd.jupyter.widget-view+json": {
       "model_id": "3dbe001a01bd4952a4c4c6742217275f",
       "version_major": 2,
       "version_minor": 0
      },
      "text/plain": [
       "Testing:   0%|          | 0/79 [00:00<?, ?it/s]"
      ]
     },
     "metadata": {},
     "output_type": "display_data"
    },
    {
     "name": "stdout",
     "output_type": "stream",
     "text": [
      "====> Test set loss: 156.2586 (BCE: 150.9028, KLD: 5.3558)\n",
      "Epoch 3/50\n"
     ]
    },
    {
     "data": {
      "application/vnd.jupyter.widget-view+json": {
       "model_id": "44f582625c954789a6e2c03b6b414ee6",
       "version_major": 2,
       "version_minor": 0
      },
      "text/plain": [
       "  0%|          | 0/469 [00:00<?, ?it/s]"
      ]
     },
     "metadata": {},
     "output_type": "display_data"
    },
    {
     "name": "stdout",
     "output_type": "stream",
     "text": [
      "Step 1,000 (N samples: 128,000), Loss: 161.1606 (Recon: 155.6479, KL: 5.5128) Grad: 78.0923\n",
      "Step 1,100 (N samples: 140,800), Loss: 152.7392 (Recon: 147.4556, KL: 5.2836) Grad: 52.0360\n",
      "Step 1,200 (N samples: 153,600), Loss: 153.6629 (Recon: 148.0884, KL: 5.5744) Grad: 68.9539\n",
      "Step 1,300 (N samples: 166,400), Loss: 146.3198 (Recon: 140.7840, KL: 5.5359) Grad: 51.1859\n",
      "Step 1,400 (N samples: 179,200), Loss: 151.9171 (Recon: 146.5526, KL: 5.3645) Grad: 52.7376\n"
     ]
    },
    {
     "data": {
      "application/vnd.jupyter.widget-view+json": {
       "model_id": "cc780d657a6749c98869bb766fa91f87",
       "version_major": 2,
       "version_minor": 0
      },
      "text/plain": [
       "Testing:   0%|          | 0/79 [00:00<?, ?it/s]"
      ]
     },
     "metadata": {},
     "output_type": "display_data"
    },
    {
     "name": "stdout",
     "output_type": "stream",
     "text": [
      "====> Test set loss: 152.2894 (BCE: 146.5600, KLD: 5.7294)\n",
      "Epoch 4/50\n"
     ]
    },
    {
     "data": {
      "application/vnd.jupyter.widget-view+json": {
       "model_id": "381545b695704918a2727cc5d8b8add3",
       "version_major": 2,
       "version_minor": 0
      },
      "text/plain": [
       "  0%|          | 0/469 [00:00<?, ?it/s]"
      ]
     },
     "metadata": {},
     "output_type": "display_data"
    },
    {
     "name": "stdout",
     "output_type": "stream",
     "text": [
      "Step 1,500 (N samples: 192,000), Loss: 151.4357 (Recon: 145.5128, KL: 5.9229) Grad: 83.3965\n",
      "Step 1,600 (N samples: 204,800), Loss: 142.3177 (Recon: 136.4746, KL: 5.8431) Grad: 60.6562\n",
      "Step 1,700 (N samples: 217,600), Loss: 156.3175 (Recon: 150.5092, KL: 5.8083) Grad: 56.3705\n",
      "Step 1,800 (N samples: 230,400), Loss: 147.4852 (Recon: 141.4148, KL: 6.0704) Grad: 125.8632\n"
     ]
    },
    {
     "data": {
      "application/vnd.jupyter.widget-view+json": {
       "model_id": "56170ef8306445c0ba38df7a50c621e9",
       "version_major": 2,
       "version_minor": 0
      },
      "text/plain": [
       "Testing:   0%|          | 0/79 [00:00<?, ?it/s]"
      ]
     },
     "metadata": {},
     "output_type": "display_data"
    },
    {
     "name": "stdout",
     "output_type": "stream",
     "text": [
      "====> Test set loss: 149.3020 (BCE: 143.3030, KLD: 5.9991)\n",
      "Epoch 5/50\n"
     ]
    },
    {
     "data": {
      "application/vnd.jupyter.widget-view+json": {
       "model_id": "8d299b78ab3c4f4e9063dbd440755a05",
       "version_major": 2,
       "version_minor": 0
      },
      "text/plain": [
       "  0%|          | 0/469 [00:00<?, ?it/s]"
      ]
     },
     "metadata": {},
     "output_type": "display_data"
    },
    {
     "name": "stdout",
     "output_type": "stream",
     "text": [
      "Step 1,900 (N samples: 243,200), Loss: 146.7695 (Recon: 140.8362, KL: 5.9333) Grad: 99.0728\n",
      "Step 2,000 (N samples: 256,000), Loss: 152.8254 (Recon: 146.8618, KL: 5.9635) Grad: 79.3632\n",
      "Step 2,100 (N samples: 268,800), Loss: 139.0305 (Recon: 133.0911, KL: 5.9394) Grad: 108.9871\n",
      "Step 2,200 (N samples: 281,600), Loss: 146.1694 (Recon: 140.2037, KL: 5.9657) Grad: 92.0408\n",
      "Step 2,300 (N samples: 294,400), Loss: 151.1652 (Recon: 145.0918, KL: 6.0735) Grad: 126.1277\n"
     ]
    },
    {
     "data": {
      "application/vnd.jupyter.widget-view+json": {
       "model_id": "460ccf059f78483684679ae7cd5b9963",
       "version_major": 2,
       "version_minor": 0
      },
      "text/plain": [
       "Testing:   0%|          | 0/79 [00:00<?, ?it/s]"
      ]
     },
     "metadata": {},
     "output_type": "display_data"
    },
    {
     "name": "stdout",
     "output_type": "stream",
     "text": [
      "====> Test set loss: 146.4998 (BCE: 140.4444, KLD: 6.0554)\n",
      "Epoch 6/50\n"
     ]
    },
    {
     "data": {
      "application/vnd.jupyter.widget-view+json": {
       "model_id": "525b9690426e415f991d512a02a876d6",
       "version_major": 2,
       "version_minor": 0
      },
      "text/plain": [
       "  0%|          | 0/469 [00:00<?, ?it/s]"
      ]
     },
     "metadata": {},
     "output_type": "display_data"
    },
    {
     "name": "stdout",
     "output_type": "stream",
     "text": [
      "Step 2,400 (N samples: 307,200), Loss: 148.9662 (Recon: 142.9377, KL: 6.0284) Grad: 90.5431\n",
      "Step 2,500 (N samples: 320,000), Loss: 140.8396 (Recon: 134.4673, KL: 6.3723) Grad: 87.4489\n",
      "Step 2,600 (N samples: 332,800), Loss: 156.1897 (Recon: 150.2708, KL: 5.9190) Grad: 150.7559\n",
      "Step 2,700 (N samples: 345,600), Loss: 153.7667 (Recon: 147.7709, KL: 5.9958) Grad: 141.8137\n",
      "Step 2,800 (N samples: 358,400), Loss: 147.1678 (Recon: 140.9649, KL: 6.2029) Grad: 56.1106\n"
     ]
    },
    {
     "data": {
      "application/vnd.jupyter.widget-view+json": {
       "model_id": "ca395e51fde64382897f279390802298",
       "version_major": 2,
       "version_minor": 0
      },
      "text/plain": [
       "Testing:   0%|          | 0/79 [00:00<?, ?it/s]"
      ]
     },
     "metadata": {},
     "output_type": "display_data"
    },
    {
     "name": "stdout",
     "output_type": "stream",
     "text": [
      "====> Test set loss: 147.7123 (BCE: 141.3253, KLD: 6.3870)\n",
      "Epoch 7/50\n"
     ]
    },
    {
     "data": {
      "application/vnd.jupyter.widget-view+json": {
       "model_id": "1d55666f6cdb44cc96e02142ec0a638c",
       "version_major": 2,
       "version_minor": 0
      },
      "text/plain": [
       "  0%|          | 0/469 [00:00<?, ?it/s]"
      ]
     },
     "metadata": {},
     "output_type": "display_data"
    },
    {
     "name": "stdout",
     "output_type": "stream",
     "text": [
      "Step 2,900 (N samples: 371,200), Loss: 148.5853 (Recon: 142.2482, KL: 6.3370) Grad: 100.7322\n",
      "Step 3,000 (N samples: 384,000), Loss: 152.9107 (Recon: 146.7228, KL: 6.1879) Grad: 140.3137\n",
      "Step 3,100 (N samples: 396,800), Loss: 141.5608 (Recon: 135.2681, KL: 6.2927) Grad: 106.7438\n",
      "Step 3,200 (N samples: 409,600), Loss: 151.9651 (Recon: 145.7657, KL: 6.1993) Grad: 109.4241\n"
     ]
    },
    {
     "data": {
      "application/vnd.jupyter.widget-view+json": {
       "model_id": "ae517630491743dfbdb5cf5ff7f38c0e",
       "version_major": 2,
       "version_minor": 0
      },
      "text/plain": [
       "Testing:   0%|          | 0/79 [00:00<?, ?it/s]"
      ]
     },
     "metadata": {},
     "output_type": "display_data"
    },
    {
     "name": "stdout",
     "output_type": "stream",
     "text": [
      "====> Test set loss: 145.8180 (BCE: 139.4090, KLD: 6.4090)\n",
      "Epoch 8/50\n"
     ]
    },
    {
     "data": {
      "application/vnd.jupyter.widget-view+json": {
       "model_id": "d82774d926d4406f8ff7cace54695783",
       "version_major": 2,
       "version_minor": 0
      },
      "text/plain": [
       "  0%|          | 0/469 [00:00<?, ?it/s]"
      ]
     },
     "metadata": {},
     "output_type": "display_data"
    },
    {
     "name": "stdout",
     "output_type": "stream",
     "text": [
      "Step 3,300 (N samples: 422,400), Loss: 135.1118 (Recon: 128.8944, KL: 6.2174) Grad: 115.3696\n",
      "Step 3,400 (N samples: 435,200), Loss: 140.5292 (Recon: 134.3831, KL: 6.1461) Grad: 163.2539\n",
      "Step 3,500 (N samples: 448,000), Loss: 140.6670 (Recon: 134.3253, KL: 6.3417) Grad: 114.8094\n",
      "Step 3,600 (N samples: 460,800), Loss: 143.4219 (Recon: 136.9416, KL: 6.4803) Grad: 130.6088\n",
      "Step 3,700 (N samples: 473,600), Loss: 142.0464 (Recon: 135.6578, KL: 6.3886) Grad: 115.3786\n"
     ]
    },
    {
     "data": {
      "application/vnd.jupyter.widget-view+json": {
       "model_id": "2010ab136540403991139534a8773c08",
       "version_major": 2,
       "version_minor": 0
      },
      "text/plain": [
       "Testing:   0%|          | 0/79 [00:00<?, ?it/s]"
      ]
     },
     "metadata": {},
     "output_type": "display_data"
    },
    {
     "name": "stdout",
     "output_type": "stream",
     "text": [
      "====> Test set loss: 144.1597 (BCE: 137.7718, KLD: 6.3879)\n",
      "Epoch 9/50\n"
     ]
    },
    {
     "data": {
      "application/vnd.jupyter.widget-view+json": {
       "model_id": "e7283519933d44f584ce57e9f64d7c27",
       "version_major": 2,
       "version_minor": 0
      },
      "text/plain": [
       "  0%|          | 0/469 [00:00<?, ?it/s]"
      ]
     },
     "metadata": {},
     "output_type": "display_data"
    },
    {
     "name": "stdout",
     "output_type": "stream",
     "text": [
      "Step 3,800 (N samples: 486,400), Loss: 139.3988 (Recon: 133.0380, KL: 6.3608) Grad: 156.1911\n",
      "Step 3,900 (N samples: 499,200), Loss: 137.9317 (Recon: 131.5847, KL: 6.3470) Grad: 86.7649\n",
      "Step 4,000 (N samples: 512,000), Loss: 142.4600 (Recon: 136.1471, KL: 6.3129) Grad: 204.3891\n",
      "Step 4,100 (N samples: 524,800), Loss: 149.0525 (Recon: 142.6097, KL: 6.4428) Grad: 91.0996\n",
      "Step 4,200 (N samples: 537,600), Loss: 146.1004 (Recon: 139.7480, KL: 6.3524) Grad: 74.8207\n"
     ]
    },
    {
     "data": {
      "application/vnd.jupyter.widget-view+json": {
       "model_id": "967350d14af141668bd809318b728f5b",
       "version_major": 2,
       "version_minor": 0
      },
      "text/plain": [
       "Testing:   0%|          | 0/79 [00:00<?, ?it/s]"
      ]
     },
     "metadata": {},
     "output_type": "display_data"
    },
    {
     "name": "stdout",
     "output_type": "stream",
     "text": [
      "====> Test set loss: 144.3101 (BCE: 137.8011, KLD: 6.5090)\n",
      "Epoch 10/50\n"
     ]
    },
    {
     "data": {
      "application/vnd.jupyter.widget-view+json": {
       "model_id": "460232ae4a6d4d83905ef6c6180488c3",
       "version_major": 2,
       "version_minor": 0
      },
      "text/plain": [
       "  0%|          | 0/469 [00:00<?, ?it/s]"
      ]
     },
     "metadata": {},
     "output_type": "display_data"
    },
    {
     "name": "stdout",
     "output_type": "stream",
     "text": [
      "Step 4,300 (N samples: 550,400), Loss: 143.7741 (Recon: 137.1523, KL: 6.6219) Grad: 73.7099\n",
      "Step 4,400 (N samples: 563,200), Loss: 144.2435 (Recon: 137.9088, KL: 6.3347) Grad: 90.3901\n",
      "Step 4,500 (N samples: 576,000), Loss: 145.0199 (Recon: 138.6719, KL: 6.3480) Grad: 57.1874\n",
      "Step 4,600 (N samples: 588,800), Loss: 143.0105 (Recon: 136.3312, KL: 6.6793) Grad: 180.6295\n"
     ]
    },
    {
     "data": {
      "application/vnd.jupyter.widget-view+json": {
       "model_id": "bf47977ca48f42a8951a112b74acf10a",
       "version_major": 2,
       "version_minor": 0
      },
      "text/plain": [
       "Testing:   0%|          | 0/79 [00:00<?, ?it/s]"
      ]
     },
     "metadata": {},
     "output_type": "display_data"
    },
    {
     "name": "stdout",
     "output_type": "stream",
     "text": [
      "====> Test set loss: 143.3697 (BCE: 136.9788, KLD: 6.3909)\n",
      "Epoch 11/50\n"
     ]
    },
    {
     "data": {
      "application/vnd.jupyter.widget-view+json": {
       "model_id": "ce967c6848f640d198be0cf0bd14f995",
       "version_major": 2,
       "version_minor": 0
      },
      "text/plain": [
       "  0%|          | 0/469 [00:00<?, ?it/s]"
      ]
     },
     "metadata": {},
     "output_type": "display_data"
    },
    {
     "name": "stdout",
     "output_type": "stream",
     "text": [
      "Step 4,700 (N samples: 601,600), Loss: 144.4197 (Recon: 138.0542, KL: 6.3655) Grad: 64.0137\n",
      "Step 4,800 (N samples: 614,400), Loss: 148.0497 (Recon: 141.6085, KL: 6.4412) Grad: 165.2326\n",
      "Step 4,900 (N samples: 627,200), Loss: 149.2025 (Recon: 142.8133, KL: 6.3892) Grad: 203.2082\n",
      "Step 5,000 (N samples: 640,000), Loss: 134.2138 (Recon: 127.7319, KL: 6.4820) Grad: 105.8877\n",
      "Step 5,100 (N samples: 652,800), Loss: 142.1086 (Recon: 135.5741, KL: 6.5345) Grad: 191.3377\n"
     ]
    },
    {
     "data": {
      "application/vnd.jupyter.widget-view+json": {
       "model_id": "815ad1ead778445fb7821e610711b723",
       "version_major": 2,
       "version_minor": 0
      },
      "text/plain": [
       "Testing:   0%|          | 0/79 [00:00<?, ?it/s]"
      ]
     },
     "metadata": {},
     "output_type": "display_data"
    },
    {
     "name": "stdout",
     "output_type": "stream",
     "text": [
      "====> Test set loss: 144.1914 (BCE: 137.5497, KLD: 6.6416)\n",
      "Epoch 12/50\n"
     ]
    },
    {
     "data": {
      "application/vnd.jupyter.widget-view+json": {
       "model_id": "73ba1c46f1a94b99b7133ccc7ef9e395",
       "version_major": 2,
       "version_minor": 0
      },
      "text/plain": [
       "  0%|          | 0/469 [00:00<?, ?it/s]"
      ]
     },
     "metadata": {},
     "output_type": "display_data"
    },
    {
     "name": "stdout",
     "output_type": "stream",
     "text": [
      "Step 5,200 (N samples: 665,600), Loss: 141.4906 (Recon: 135.0468, KL: 6.4438) Grad: 82.0045\n",
      "Step 5,300 (N samples: 678,400), Loss: 150.3842 (Recon: 143.9359, KL: 6.4483) Grad: 117.8209\n",
      "Step 5,400 (N samples: 691,200), Loss: 144.7620 (Recon: 138.1959, KL: 6.5661) Grad: 112.6509\n",
      "Step 5,500 (N samples: 704,000), Loss: 144.4724 (Recon: 138.0308, KL: 6.4416) Grad: 76.4684\n",
      "Step 5,600 (N samples: 716,800), Loss: 142.3304 (Recon: 135.6402, KL: 6.6902) Grad: 110.6796\n"
     ]
    },
    {
     "data": {
      "application/vnd.jupyter.widget-view+json": {
       "model_id": "a3e912fec7d44297a0b6e91f803f8c86",
       "version_major": 2,
       "version_minor": 0
      },
      "text/plain": [
       "Testing:   0%|          | 0/79 [00:00<?, ?it/s]"
      ]
     },
     "metadata": {},
     "output_type": "display_data"
    },
    {
     "name": "stdout",
     "output_type": "stream",
     "text": [
      "====> Test set loss: 141.5298 (BCE: 134.9109, KLD: 6.6189)\n",
      "Epoch 13/50\n"
     ]
    },
    {
     "data": {
      "application/vnd.jupyter.widget-view+json": {
       "model_id": "4c983479b9df4b2a8dfc4e17a40671f9",
       "version_major": 2,
       "version_minor": 0
      },
      "text/plain": [
       "  0%|          | 0/469 [00:00<?, ?it/s]"
      ]
     },
     "metadata": {},
     "output_type": "display_data"
    },
    {
     "name": "stdout",
     "output_type": "stream",
     "text": [
      "Step 5,700 (N samples: 729,600), Loss: 138.7258 (Recon: 132.2061, KL: 6.5196) Grad: 81.8579\n",
      "Step 5,800 (N samples: 742,400), Loss: 137.7918 (Recon: 131.0473, KL: 6.7445) Grad: 126.9998\n",
      "Step 5,900 (N samples: 755,200), Loss: 139.1572 (Recon: 132.5192, KL: 6.6380) Grad: 92.1287\n",
      "Step 6,000 (N samples: 768,000), Loss: 147.7327 (Recon: 141.3663, KL: 6.3664) Grad: 197.3168\n"
     ]
    },
    {
     "data": {
      "application/vnd.jupyter.widget-view+json": {
       "model_id": "d7acc42478834d8591e387a80ad14e15",
       "version_major": 2,
       "version_minor": 0
      },
      "text/plain": [
       "Testing:   0%|          | 0/79 [00:00<?, ?it/s]"
      ]
     },
     "metadata": {},
     "output_type": "display_data"
    },
    {
     "name": "stdout",
     "output_type": "stream",
     "text": [
      "====> Test set loss: 143.0974 (BCE: 136.6026, KLD: 6.4948)\n",
      "Epoch 14/50\n"
     ]
    },
    {
     "data": {
      "application/vnd.jupyter.widget-view+json": {
       "model_id": "1d7cb23904c04051a353e9510ae976db",
       "version_major": 2,
       "version_minor": 0
      },
      "text/plain": [
       "  0%|          | 0/469 [00:00<?, ?it/s]"
      ]
     },
     "metadata": {},
     "output_type": "display_data"
    },
    {
     "name": "stdout",
     "output_type": "stream",
     "text": [
      "Step 6,100 (N samples: 780,800), Loss: 145.7374 (Recon: 139.0341, KL: 6.7034) Grad: 127.6023\n",
      "Step 6,200 (N samples: 793,600), Loss: 141.6527 (Recon: 135.2032, KL: 6.4495) Grad: 102.8920\n",
      "Step 6,300 (N samples: 806,400), Loss: 137.2694 (Recon: 130.6087, KL: 6.6607) Grad: 142.2895\n",
      "Step 6,400 (N samples: 819,200), Loss: 147.6222 (Recon: 141.1086, KL: 6.5136) Grad: 152.1675\n",
      "Step 6,500 (N samples: 832,000), Loss: 139.5912 (Recon: 133.0249, KL: 6.5663) Grad: 94.3195\n"
     ]
    },
    {
     "data": {
      "application/vnd.jupyter.widget-view+json": {
       "model_id": "471d96e237a04378a2a365bbc08aaf03",
       "version_major": 2,
       "version_minor": 0
      },
      "text/plain": [
       "Testing:   0%|          | 0/79 [00:00<?, ?it/s]"
      ]
     },
     "metadata": {},
     "output_type": "display_data"
    },
    {
     "name": "stdout",
     "output_type": "stream",
     "text": [
      "====> Test set loss: 142.2235 (BCE: 135.5481, KLD: 6.6754)\n",
      "Epoch 15/50\n"
     ]
    },
    {
     "data": {
      "application/vnd.jupyter.widget-view+json": {
       "model_id": "fe311e8010294d258bae31e0e28ffbc8",
       "version_major": 2,
       "version_minor": 0
      },
      "text/plain": [
       "  0%|          | 0/469 [00:00<?, ?it/s]"
      ]
     },
     "metadata": {},
     "output_type": "display_data"
    },
    {
     "name": "stdout",
     "output_type": "stream",
     "text": [
      "Step 6,600 (N samples: 844,800), Loss: 139.6605 (Recon: 132.9073, KL: 6.7532) Grad: 215.4804\n",
      "Step 6,700 (N samples: 857,600), Loss: 142.8286 (Recon: 135.9299, KL: 6.8986) Grad: 129.4531\n",
      "Step 6,800 (N samples: 870,400), Loss: 148.5256 (Recon: 142.0100, KL: 6.5155) Grad: 144.1505\n",
      "Step 6,900 (N samples: 883,200), Loss: 136.2276 (Recon: 129.4466, KL: 6.7811) Grad: 130.7651\n",
      "Step 7,000 (N samples: 896,000), Loss: 135.2534 (Recon: 128.5861, KL: 6.6674) Grad: 249.3019\n"
     ]
    },
    {
     "data": {
      "application/vnd.jupyter.widget-view+json": {
       "model_id": "9899455a7b0d4c26bac603a808984b42",
       "version_major": 2,
       "version_minor": 0
      },
      "text/plain": [
       "Testing:   0%|          | 0/79 [00:00<?, ?it/s]"
      ]
     },
     "metadata": {},
     "output_type": "display_data"
    },
    {
     "name": "stdout",
     "output_type": "stream",
     "text": [
      "====> Test set loss: 141.6802 (BCE: 135.0522, KLD: 6.6280)\n",
      "Epoch 16/50\n"
     ]
    },
    {
     "data": {
      "application/vnd.jupyter.widget-view+json": {
       "model_id": "50ce4ff8872347118ac93a612226a0b7",
       "version_major": 2,
       "version_minor": 0
      },
      "text/plain": [
       "  0%|          | 0/469 [00:00<?, ?it/s]"
      ]
     },
     "metadata": {},
     "output_type": "display_data"
    },
    {
     "name": "stdout",
     "output_type": "stream",
     "text": [
      "Step 7,100 (N samples: 908,800), Loss: 140.4543 (Recon: 133.7029, KL: 6.7514) Grad: 92.9669\n",
      "Step 7,200 (N samples: 921,600), Loss: 147.6970 (Recon: 141.0640, KL: 6.6330) Grad: 154.2440\n",
      "Step 7,300 (N samples: 934,400), Loss: 135.2162 (Recon: 128.5551, KL: 6.6611) Grad: 172.1572\n",
      "Step 7,400 (N samples: 947,200), Loss: 140.0168 (Recon: 133.4853, KL: 6.5315) Grad: 85.7808\n",
      "Step 7,500 (N samples: 960,000), Loss: 140.3576 (Recon: 133.5864, KL: 6.7713) Grad: 154.5880\n"
     ]
    },
    {
     "data": {
      "application/vnd.jupyter.widget-view+json": {
       "model_id": "ec29ed1bb0cd485996798b22bbc11108",
       "version_major": 2,
       "version_minor": 0
      },
      "text/plain": [
       "Testing:   0%|          | 0/79 [00:00<?, ?it/s]"
      ]
     },
     "metadata": {},
     "output_type": "display_data"
    },
    {
     "name": "stdout",
     "output_type": "stream",
     "text": [
      "====> Test set loss: 141.8403 (BCE: 135.0787, KLD: 6.7616)\n",
      "Epoch 17/50\n"
     ]
    },
    {
     "data": {
      "application/vnd.jupyter.widget-view+json": {
       "model_id": "10f46e6d3d1942c9a192efa0f4311f83",
       "version_major": 2,
       "version_minor": 0
      },
      "text/plain": [
       "  0%|          | 0/469 [00:00<?, ?it/s]"
      ]
     },
     "metadata": {},
     "output_type": "display_data"
    },
    {
     "name": "stdout",
     "output_type": "stream",
     "text": [
      "Step 7,600 (N samples: 972,800), Loss: 138.9520 (Recon: 132.3790, KL: 6.5730) Grad: 199.7703\n",
      "Step 7,700 (N samples: 985,600), Loss: 139.5259 (Recon: 132.9084, KL: 6.6175) Grad: 100.5569\n",
      "Step 7,800 (N samples: 998,400), Loss: 136.7266 (Recon: 130.0089, KL: 6.7177) Grad: 107.7535\n",
      "Step 7,900 (N samples: 1,011,200), Loss: 136.7620 (Recon: 130.2204, KL: 6.5416) Grad: 94.1732\n"
     ]
    },
    {
     "data": {
      "application/vnd.jupyter.widget-view+json": {
       "model_id": "1d7aaee1f9c84aabab1b145b2d932979",
       "version_major": 2,
       "version_minor": 0
      },
      "text/plain": [
       "Testing:   0%|          | 0/79 [00:00<?, ?it/s]"
      ]
     },
     "metadata": {},
     "output_type": "display_data"
    },
    {
     "name": "stdout",
     "output_type": "stream",
     "text": [
      "====> Test set loss: 141.0036 (BCE: 134.3304, KLD: 6.6732)\n",
      "Epoch 18/50\n"
     ]
    },
    {
     "data": {
      "application/vnd.jupyter.widget-view+json": {
       "model_id": "1106579edf094e70b3cda16d0633b9af",
       "version_major": 2,
       "version_minor": 0
      },
      "text/plain": [
       "  0%|          | 0/469 [00:00<?, ?it/s]"
      ]
     },
     "metadata": {},
     "output_type": "display_data"
    },
    {
     "name": "stdout",
     "output_type": "stream",
     "text": [
      "Step 8,000 (N samples: 1,024,000), Loss: 142.2507 (Recon: 135.4982, KL: 6.7526) Grad: 236.4137\n",
      "Step 8,100 (N samples: 1,036,800), Loss: 148.0153 (Recon: 141.3947, KL: 6.6206) Grad: 299.5753\n",
      "Step 8,200 (N samples: 1,049,600), Loss: 150.4011 (Recon: 143.6647, KL: 6.7363) Grad: 221.3209\n",
      "Step 8,300 (N samples: 1,062,400), Loss: 141.8095 (Recon: 135.2287, KL: 6.5808) Grad: 137.3839\n",
      "Step 8,400 (N samples: 1,075,200), Loss: 139.5272 (Recon: 132.8404, KL: 6.6868) Grad: 147.0639\n"
     ]
    },
    {
     "data": {
      "application/vnd.jupyter.widget-view+json": {
       "model_id": "a048fa5ac2774a92867c28d049dd6e62",
       "version_major": 2,
       "version_minor": 0
      },
      "text/plain": [
       "Testing:   0%|          | 0/79 [00:00<?, ?it/s]"
      ]
     },
     "metadata": {},
     "output_type": "display_data"
    },
    {
     "name": "stdout",
     "output_type": "stream",
     "text": [
      "====> Test set loss: 143.1873 (BCE: 136.7284, KLD: 6.4588)\n",
      "Epoch 19/50\n"
     ]
    },
    {
     "data": {
      "application/vnd.jupyter.widget-view+json": {
       "model_id": "422cce204eec4fbe9a3385fa3d82a782",
       "version_major": 2,
       "version_minor": 0
      },
      "text/plain": [
       "  0%|          | 0/469 [00:00<?, ?it/s]"
      ]
     },
     "metadata": {},
     "output_type": "display_data"
    },
    {
     "name": "stdout",
     "output_type": "stream",
     "text": [
      "Step 8,500 (N samples: 1,088,000), Loss: 140.9632 (Recon: 134.1239, KL: 6.8393) Grad: 230.3117\n",
      "Step 8,600 (N samples: 1,100,800), Loss: 141.0243 (Recon: 134.5567, KL: 6.4676) Grad: 114.3381\n",
      "Step 8,700 (N samples: 1,113,600), Loss: 137.9376 (Recon: 131.3065, KL: 6.6311) Grad: 140.8971\n",
      "Step 8,800 (N samples: 1,126,400), Loss: 145.5986 (Recon: 138.8396, KL: 6.7590) Grad: 417.6266\n",
      "Step 8,900 (N samples: 1,139,200), Loss: 139.5792 (Recon: 132.6886, KL: 6.8906) Grad: 222.9050\n"
     ]
    },
    {
     "data": {
      "application/vnd.jupyter.widget-view+json": {
       "model_id": "53c1ac87dc634a209c8b0dfab7e97bc2",
       "version_major": 2,
       "version_minor": 0
      },
      "text/plain": [
       "Testing:   0%|          | 0/79 [00:00<?, ?it/s]"
      ]
     },
     "metadata": {},
     "output_type": "display_data"
    },
    {
     "name": "stdout",
     "output_type": "stream",
     "text": [
      "====> Test set loss: 141.5087 (BCE: 134.8423, KLD: 6.6665)\n",
      "Epoch 20/50\n"
     ]
    },
    {
     "data": {
      "application/vnd.jupyter.widget-view+json": {
       "model_id": "851d79fdd4cd4a97ae516b5b6402e8eb",
       "version_major": 2,
       "version_minor": 0
      },
      "text/plain": [
       "  0%|          | 0/469 [00:00<?, ?it/s]"
      ]
     },
     "metadata": {},
     "output_type": "display_data"
    },
    {
     "name": "stdout",
     "output_type": "stream",
     "text": [
      "Step 9,000 (N samples: 1,152,000), Loss: 133.0774 (Recon: 126.1631, KL: 6.9143) Grad: 202.0122\n",
      "Step 9,100 (N samples: 1,164,800), Loss: 142.6191 (Recon: 135.9718, KL: 6.6473) Grad: 224.4589\n",
      "Step 9,200 (N samples: 1,177,600), Loss: 140.1039 (Recon: 133.5762, KL: 6.5277) Grad: 333.6349\n",
      "Step 9,300 (N samples: 1,190,400), Loss: 144.7138 (Recon: 138.0659, KL: 6.6479) Grad: 289.4714\n"
     ]
    },
    {
     "data": {
      "application/vnd.jupyter.widget-view+json": {
       "model_id": "8310a99465144e93b8ba5f9947f9a5c5",
       "version_major": 2,
       "version_minor": 0
      },
      "text/plain": [
       "Testing:   0%|          | 0/79 [00:00<?, ?it/s]"
      ]
     },
     "metadata": {},
     "output_type": "display_data"
    },
    {
     "name": "stdout",
     "output_type": "stream",
     "text": [
      "====> Test set loss: 141.7349 (BCE: 135.0936, KLD: 6.6413)\n",
      "Epoch 21/50\n"
     ]
    },
    {
     "data": {
      "application/vnd.jupyter.widget-view+json": {
       "model_id": "d6a71b9c70f547efab7b33ad440fff2b",
       "version_major": 2,
       "version_minor": 0
      },
      "text/plain": [
       "  0%|          | 0/469 [00:00<?, ?it/s]"
      ]
     },
     "metadata": {},
     "output_type": "display_data"
    },
    {
     "name": "stdout",
     "output_type": "stream",
     "text": [
      "Step 9,400 (N samples: 1,203,200), Loss: 144.2120 (Recon: 137.4495, KL: 6.7625) Grad: 234.8346\n",
      "Step 9,500 (N samples: 1,216,000), Loss: 133.6969 (Recon: 127.0451, KL: 6.6518) Grad: 155.8946\n",
      "Step 9,600 (N samples: 1,228,800), Loss: 138.9500 (Recon: 132.3087, KL: 6.6413) Grad: 137.1015\n",
      "Step 9,700 (N samples: 1,241,600), Loss: 140.6382 (Recon: 133.9018, KL: 6.7364) Grad: 168.5814\n",
      "Step 9,800 (N samples: 1,254,400), Loss: 136.4550 (Recon: 129.4003, KL: 7.0546) Grad: 107.8710\n"
     ]
    },
    {
     "data": {
      "application/vnd.jupyter.widget-view+json": {
       "model_id": "b2a90d8674e843e49dad50ef100a8375",
       "version_major": 2,
       "version_minor": 0
      },
      "text/plain": [
       "Testing:   0%|          | 0/79 [00:00<?, ?it/s]"
      ]
     },
     "metadata": {},
     "output_type": "display_data"
    },
    {
     "name": "stdout",
     "output_type": "stream",
     "text": [
      "====> Test set loss: 140.5656 (BCE: 133.8370, KLD: 6.7286)\n",
      "Epoch 22/50\n"
     ]
    },
    {
     "data": {
      "application/vnd.jupyter.widget-view+json": {
       "model_id": "82e9596141d54dd5844fd41d08f4988a",
       "version_major": 2,
       "version_minor": 0
      },
      "text/plain": [
       "  0%|          | 0/469 [00:00<?, ?it/s]"
      ]
     },
     "metadata": {},
     "output_type": "display_data"
    },
    {
     "name": "stdout",
     "output_type": "stream",
     "text": [
      "Step 9,900 (N samples: 1,267,200), Loss: 140.4000 (Recon: 133.4745, KL: 6.9255) Grad: 128.9091\n",
      "Step 10,000 (N samples: 1,280,000), Loss: 140.7081 (Recon: 133.7728, KL: 6.9353) Grad: 210.3091\n",
      "Step 10,100 (N samples: 1,292,800), Loss: 143.9577 (Recon: 137.2176, KL: 6.7401) Grad: 153.6288\n",
      "Step 10,200 (N samples: 1,305,600), Loss: 138.0020 (Recon: 131.1596, KL: 6.8424) Grad: 195.2846\n",
      "Step 10,300 (N samples: 1,318,400), Loss: 137.9105 (Recon: 131.3063, KL: 6.6042) Grad: 86.8065\n"
     ]
    },
    {
     "data": {
      "application/vnd.jupyter.widget-view+json": {
       "model_id": "c62eea52dcff4a40aa4aa7268cabf90c",
       "version_major": 2,
       "version_minor": 0
      },
      "text/plain": [
       "Testing:   0%|          | 0/79 [00:00<?, ?it/s]"
      ]
     },
     "metadata": {},
     "output_type": "display_data"
    },
    {
     "name": "stdout",
     "output_type": "stream",
     "text": [
      "====> Test set loss: 142.7608 (BCE: 135.8921, KLD: 6.8687)\n",
      "Epoch 23/50\n"
     ]
    },
    {
     "data": {
      "application/vnd.jupyter.widget-view+json": {
       "model_id": "79a1005f3e004ace9f9fa68fe8d7c965",
       "version_major": 2,
       "version_minor": 0
      },
      "text/plain": [
       "  0%|          | 0/469 [00:00<?, ?it/s]"
      ]
     },
     "metadata": {},
     "output_type": "display_data"
    },
    {
     "name": "stdout",
     "output_type": "stream",
     "text": [
      "Step 10,400 (N samples: 1,331,200), Loss: 135.1471 (Recon: 128.6676, KL: 6.4795) Grad: 161.6142\n",
      "Step 10,500 (N samples: 1,344,000), Loss: 148.3334 (Recon: 141.5800, KL: 6.7533) Grad: 194.9180\n",
      "Step 10,600 (N samples: 1,356,800), Loss: 144.3979 (Recon: 137.5919, KL: 6.8060) Grad: 232.7649\n",
      "Step 10,700 (N samples: 1,369,600), Loss: 145.0691 (Recon: 138.3004, KL: 6.7687) Grad: 122.4524\n"
     ]
    },
    {
     "data": {
      "application/vnd.jupyter.widget-view+json": {
       "model_id": "6143f36c8e3948798196e5954576dd54",
       "version_major": 2,
       "version_minor": 0
      },
      "text/plain": [
       "Testing:   0%|          | 0/79 [00:00<?, ?it/s]"
      ]
     },
     "metadata": {},
     "output_type": "display_data"
    },
    {
     "name": "stdout",
     "output_type": "stream",
     "text": [
      "====> Test set loss: 143.1201 (BCE: 136.4012, KLD: 6.7190)\n",
      "Epoch 24/50\n"
     ]
    },
    {
     "data": {
      "application/vnd.jupyter.widget-view+json": {
       "model_id": "b1d91e198461411093222dc7c352bc80",
       "version_major": 2,
       "version_minor": 0
      },
      "text/plain": [
       "  0%|          | 0/469 [00:00<?, ?it/s]"
      ]
     },
     "metadata": {},
     "output_type": "display_data"
    },
    {
     "name": "stdout",
     "output_type": "stream",
     "text": [
      "Step 10,800 (N samples: 1,382,400), Loss: 139.3116 (Recon: 132.3626, KL: 6.9490) Grad: 154.0394\n",
      "Step 10,900 (N samples: 1,395,200), Loss: 141.0921 (Recon: 134.2464, KL: 6.8457) Grad: 165.8068\n",
      "Step 11,000 (N samples: 1,408,000), Loss: 143.9678 (Recon: 137.0014, KL: 6.9664) Grad: 164.4964\n",
      "Step 11,100 (N samples: 1,420,800), Loss: 147.4951 (Recon: 140.7044, KL: 6.7907) Grad: 210.0513\n",
      "Step 11,200 (N samples: 1,433,600), Loss: 138.6744 (Recon: 131.8499, KL: 6.8245) Grad: 278.9481\n"
     ]
    },
    {
     "data": {
      "application/vnd.jupyter.widget-view+json": {
       "model_id": "95b36343457249a3b3312159a608579b",
       "version_major": 2,
       "version_minor": 0
      },
      "text/plain": [
       "Testing:   0%|          | 0/79 [00:00<?, ?it/s]"
      ]
     },
     "metadata": {},
     "output_type": "display_data"
    },
    {
     "name": "stdout",
     "output_type": "stream",
     "text": [
      "====> Test set loss: 140.6461 (BCE: 133.9427, KLD: 6.7035)\n",
      "Epoch 25/50\n"
     ]
    },
    {
     "data": {
      "application/vnd.jupyter.widget-view+json": {
       "model_id": "146b661b7dbe4d1c8657c8980f8958da",
       "version_major": 2,
       "version_minor": 0
      },
      "text/plain": [
       "  0%|          | 0/469 [00:00<?, ?it/s]"
      ]
     },
     "metadata": {},
     "output_type": "display_data"
    },
    {
     "name": "stdout",
     "output_type": "stream",
     "text": [
      "Step 11,300 (N samples: 1,446,400), Loss: 132.6379 (Recon: 125.6844, KL: 6.9535) Grad: 177.7284\n",
      "Step 11,400 (N samples: 1,459,200), Loss: 136.0888 (Recon: 129.2459, KL: 6.8429) Grad: 192.6907\n",
      "Step 11,500 (N samples: 1,472,000), Loss: 141.9587 (Recon: 135.1861, KL: 6.7726) Grad: 188.7238\n",
      "Step 11,600 (N samples: 1,484,800), Loss: 146.3822 (Recon: 139.7250, KL: 6.6573) Grad: 173.2686\n",
      "Step 11,700 (N samples: 1,497,600), Loss: 141.6948 (Recon: 134.8193, KL: 6.8755) Grad: 222.2147\n"
     ]
    },
    {
     "data": {
      "application/vnd.jupyter.widget-view+json": {
       "model_id": "687617455af544ec943bc58648d03b5f",
       "version_major": 2,
       "version_minor": 0
      },
      "text/plain": [
       "Testing:   0%|          | 0/79 [00:00<?, ?it/s]"
      ]
     },
     "metadata": {},
     "output_type": "display_data"
    },
    {
     "name": "stdout",
     "output_type": "stream",
     "text": [
      "====> Test set loss: 139.1446 (BCE: 132.3893, KLD: 6.7553)\n",
      "Epoch 26/50\n"
     ]
    },
    {
     "data": {
      "application/vnd.jupyter.widget-view+json": {
       "model_id": "985381274bc343b181e34efb222f40cc",
       "version_major": 2,
       "version_minor": 0
      },
      "text/plain": [
       "  0%|          | 0/469 [00:00<?, ?it/s]"
      ]
     },
     "metadata": {},
     "output_type": "display_data"
    },
    {
     "name": "stdout",
     "output_type": "stream",
     "text": [
      "Step 11,800 (N samples: 1,510,400), Loss: 138.0523 (Recon: 131.0905, KL: 6.9619) Grad: 133.6411\n",
      "Step 11,900 (N samples: 1,523,200), Loss: 137.8590 (Recon: 130.9609, KL: 6.8981) Grad: 216.8175\n",
      "Step 12,000 (N samples: 1,536,000), Loss: 143.0796 (Recon: 136.3222, KL: 6.7573) Grad: 185.5818\n",
      "Step 12,100 (N samples: 1,548,800), Loss: 138.2729 (Recon: 131.3838, KL: 6.8892) Grad: 222.4354\n"
     ]
    },
    {
     "data": {
      "application/vnd.jupyter.widget-view+json": {
       "model_id": "8105642264214540a93c42b38a22e13e",
       "version_major": 2,
       "version_minor": 0
      },
      "text/plain": [
       "Testing:   0%|          | 0/79 [00:00<?, ?it/s]"
      ]
     },
     "metadata": {},
     "output_type": "display_data"
    },
    {
     "name": "stdout",
     "output_type": "stream",
     "text": [
      "====> Test set loss: 140.1220 (BCE: 133.3180, KLD: 6.8041)\n",
      "Epoch 27/50\n"
     ]
    },
    {
     "data": {
      "application/vnd.jupyter.widget-view+json": {
       "model_id": "cdca3dfb0afa4dd6b2563936183524d0",
       "version_major": 2,
       "version_minor": 0
      },
      "text/plain": [
       "  0%|          | 0/469 [00:00<?, ?it/s]"
      ]
     },
     "metadata": {},
     "output_type": "display_data"
    },
    {
     "name": "stdout",
     "output_type": "stream",
     "text": [
      "Step 12,200 (N samples: 1,561,600), Loss: 137.9178 (Recon: 131.0432, KL: 6.8746) Grad: 182.6314\n",
      "Step 12,300 (N samples: 1,574,400), Loss: 142.7408 (Recon: 135.8367, KL: 6.9041) Grad: 143.3418\n",
      "Step 12,400 (N samples: 1,587,200), Loss: 132.1152 (Recon: 125.1168, KL: 6.9984) Grad: 98.4869\n",
      "Step 12,500 (N samples: 1,600,000), Loss: 138.5049 (Recon: 131.6954, KL: 6.8095) Grad: 132.5409\n",
      "Step 12,600 (N samples: 1,612,800), Loss: 152.7265 (Recon: 146.2693, KL: 6.4572) Grad: 129.4263\n"
     ]
    },
    {
     "data": {
      "application/vnd.jupyter.widget-view+json": {
       "model_id": "6fb2c676149349bc86920d7c0fb30108",
       "version_major": 2,
       "version_minor": 0
      },
      "text/plain": [
       "Testing:   0%|          | 0/79 [00:00<?, ?it/s]"
      ]
     },
     "metadata": {},
     "output_type": "display_data"
    },
    {
     "name": "stdout",
     "output_type": "stream",
     "text": [
      "====> Test set loss: 138.9018 (BCE: 132.0853, KLD: 6.8165)\n",
      "Epoch 28/50\n"
     ]
    },
    {
     "data": {
      "application/vnd.jupyter.widget-view+json": {
       "model_id": "32df34971b4c427db037b960b85b5904",
       "version_major": 2,
       "version_minor": 0
      },
      "text/plain": [
       "  0%|          | 0/469 [00:00<?, ?it/s]"
      ]
     },
     "metadata": {},
     "output_type": "display_data"
    },
    {
     "name": "stdout",
     "output_type": "stream",
     "text": [
      "Step 12,700 (N samples: 1,625,600), Loss: 138.7398 (Recon: 131.7680, KL: 6.9717) Grad: 173.8888\n",
      "Step 12,800 (N samples: 1,638,400), Loss: 132.6943 (Recon: 125.6497, KL: 7.0446) Grad: 128.7567\n",
      "Step 12,900 (N samples: 1,651,200), Loss: 133.9810 (Recon: 127.2334, KL: 6.7477) Grad: 167.6721\n",
      "Step 13,000 (N samples: 1,664,000), Loss: 139.5206 (Recon: 132.7830, KL: 6.7377) Grad: 139.4008\n",
      "Step 13,100 (N samples: 1,676,800), Loss: 148.4594 (Recon: 141.7064, KL: 6.7529) Grad: 158.5585\n"
     ]
    },
    {
     "data": {
      "application/vnd.jupyter.widget-view+json": {
       "model_id": "3e92161fe8f244f3b405314ea383f4f3",
       "version_major": 2,
       "version_minor": 0
      },
      "text/plain": [
       "Testing:   0%|          | 0/79 [00:00<?, ?it/s]"
      ]
     },
     "metadata": {},
     "output_type": "display_data"
    },
    {
     "name": "stdout",
     "output_type": "stream",
     "text": [
      "====> Test set loss: 141.1702 (BCE: 134.2814, KLD: 6.8888)\n",
      "Epoch 29/50\n"
     ]
    },
    {
     "data": {
      "application/vnd.jupyter.widget-view+json": {
       "model_id": "18d56d342c384fb5add132d797d224b8",
       "version_major": 2,
       "version_minor": 0
      },
      "text/plain": [
       "  0%|          | 0/469 [00:00<?, ?it/s]"
      ]
     },
     "metadata": {},
     "output_type": "display_data"
    },
    {
     "name": "stdout",
     "output_type": "stream",
     "text": [
      "Step 13,200 (N samples: 1,689,600), Loss: 143.0883 (Recon: 136.1988, KL: 6.8896) Grad: 187.7840\n",
      "Step 13,300 (N samples: 1,702,400), Loss: 140.1775 (Recon: 133.1968, KL: 6.9806) Grad: 244.0522\n",
      "Step 13,400 (N samples: 1,715,200), Loss: 137.2259 (Recon: 130.4593, KL: 6.7666) Grad: 148.1013\n",
      "Step 13,500 (N samples: 1,728,000), Loss: 151.3661 (Recon: 144.4229, KL: 6.9432) Grad: 445.6504\n",
      "Step 13,600 (N samples: 1,740,800), Loss: 137.5446 (Recon: 130.6417, KL: 6.9029) Grad: 183.3794\n"
     ]
    },
    {
     "data": {
      "application/vnd.jupyter.widget-view+json": {
       "model_id": "7ed53817e40b49abbb0d5f4bc11c1a36",
       "version_major": 2,
       "version_minor": 0
      },
      "text/plain": [
       "Testing:   0%|          | 0/79 [00:00<?, ?it/s]"
      ]
     },
     "metadata": {},
     "output_type": "display_data"
    },
    {
     "name": "stdout",
     "output_type": "stream",
     "text": [
      "====> Test set loss: 139.5977 (BCE: 132.8265, KLD: 6.7712)\n",
      "Epoch 30/50\n"
     ]
    },
    {
     "data": {
      "application/vnd.jupyter.widget-view+json": {
       "model_id": "54b15631fd004b09855f8c3c3870fffa",
       "version_major": 2,
       "version_minor": 0
      },
      "text/plain": [
       "  0%|          | 0/469 [00:00<?, ?it/s]"
      ]
     },
     "metadata": {},
     "output_type": "display_data"
    },
    {
     "name": "stdout",
     "output_type": "stream",
     "text": [
      "Step 13,700 (N samples: 1,753,600), Loss: 144.9330 (Recon: 138.2023, KL: 6.7307) Grad: 164.3043\n",
      "Step 13,800 (N samples: 1,766,400), Loss: 140.6034 (Recon: 133.6418, KL: 6.9616) Grad: 221.6360\n",
      "Step 13,900 (N samples: 1,779,200), Loss: 139.3148 (Recon: 132.5066, KL: 6.8082) Grad: 202.2252\n",
      "Step 14,000 (N samples: 1,792,000), Loss: 140.8280 (Recon: 133.8641, KL: 6.9639) Grad: 115.3288\n"
     ]
    },
    {
     "data": {
      "application/vnd.jupyter.widget-view+json": {
       "model_id": "b98c639bf29b4aeea6eb3dd51198acf0",
       "version_major": 2,
       "version_minor": 0
      },
      "text/plain": [
       "Testing:   0%|          | 0/79 [00:00<?, ?it/s]"
      ]
     },
     "metadata": {},
     "output_type": "display_data"
    },
    {
     "name": "stdout",
     "output_type": "stream",
     "text": [
      "====> Test set loss: 139.1212 (BCE: 132.1331, KLD: 6.9882)\n",
      "Epoch 31/50\n"
     ]
    },
    {
     "data": {
      "application/vnd.jupyter.widget-view+json": {
       "model_id": "d32b5d4dd7764d619e594f85c650af32",
       "version_major": 2,
       "version_minor": 0
      },
      "text/plain": [
       "  0%|          | 0/469 [00:00<?, ?it/s]"
      ]
     },
     "metadata": {},
     "output_type": "display_data"
    },
    {
     "name": "stdout",
     "output_type": "stream",
     "text": [
      "Step 14,100 (N samples: 1,804,800), Loss: 135.7843 (Recon: 128.7584, KL: 7.0259) Grad: 253.7507\n",
      "Step 14,200 (N samples: 1,817,600), Loss: 136.3734 (Recon: 129.5873, KL: 6.7861) Grad: 224.1057\n",
      "Step 14,300 (N samples: 1,830,400), Loss: 135.6193 (Recon: 128.8570, KL: 6.7624) Grad: 205.2730\n",
      "Step 14,400 (N samples: 1,843,200), Loss: 142.4135 (Recon: 135.5872, KL: 6.8263) Grad: 136.1993\n",
      "Step 14,500 (N samples: 1,856,000), Loss: 136.7495 (Recon: 129.8056, KL: 6.9440) Grad: 193.6102\n"
     ]
    },
    {
     "data": {
      "application/vnd.jupyter.widget-view+json": {
       "model_id": "ac8d1a3a52034c42a3c9e423338273a3",
       "version_major": 2,
       "version_minor": 0
      },
      "text/plain": [
       "Testing:   0%|          | 0/79 [00:00<?, ?it/s]"
      ]
     },
     "metadata": {},
     "output_type": "display_data"
    },
    {
     "name": "stdout",
     "output_type": "stream",
     "text": [
      "====> Test set loss: 139.1308 (BCE: 132.1696, KLD: 6.9611)\n",
      "Epoch 32/50\n"
     ]
    },
    {
     "data": {
      "application/vnd.jupyter.widget-view+json": {
       "model_id": "f7c3be91a821466fb7d37fbf6f2f582d",
       "version_major": 2,
       "version_minor": 0
      },
      "text/plain": [
       "  0%|          | 0/469 [00:00<?, ?it/s]"
      ]
     },
     "metadata": {},
     "output_type": "display_data"
    },
    {
     "name": "stdout",
     "output_type": "stream",
     "text": [
      "Step 14,600 (N samples: 1,868,800), Loss: 137.9678 (Recon: 130.9841, KL: 6.9836) Grad: 153.0502\n",
      "Step 14,700 (N samples: 1,881,600), Loss: 131.7272 (Recon: 124.5811, KL: 7.1461) Grad: 157.4814\n",
      "Step 14,800 (N samples: 1,894,400), Loss: 139.1173 (Recon: 132.0862, KL: 7.0311) Grad: 125.5501\n",
      "Step 14,900 (N samples: 1,907,200), Loss: 145.6286 (Recon: 138.8320, KL: 6.7966) Grad: 169.9443\n",
      "Step 15,000 (N samples: 1,920,000), Loss: 141.6167 (Recon: 134.8662, KL: 6.7504) Grad: 180.9183\n"
     ]
    },
    {
     "data": {
      "application/vnd.jupyter.widget-view+json": {
       "model_id": "d6404f1e93ce47f69941cf02e690592a",
       "version_major": 2,
       "version_minor": 0
      },
      "text/plain": [
       "Testing:   0%|          | 0/79 [00:00<?, ?it/s]"
      ]
     },
     "metadata": {},
     "output_type": "display_data"
    },
    {
     "name": "stdout",
     "output_type": "stream",
     "text": [
      "====> Test set loss: 140.3701 (BCE: 133.5694, KLD: 6.8008)\n",
      "Epoch 33/50\n"
     ]
    },
    {
     "data": {
      "application/vnd.jupyter.widget-view+json": {
       "model_id": "3cb4f4abc17a45e68d845740e2b74b07",
       "version_major": 2,
       "version_minor": 0
      },
      "text/plain": [
       "  0%|          | 0/469 [00:00<?, ?it/s]"
      ]
     },
     "metadata": {},
     "output_type": "display_data"
    },
    {
     "name": "stdout",
     "output_type": "stream",
     "text": [
      "Step 15,100 (N samples: 1,932,800), Loss: 140.2314 (Recon: 133.3144, KL: 6.9170) Grad: 129.9855\n",
      "Step 15,200 (N samples: 1,945,600), Loss: 129.9712 (Recon: 122.9669, KL: 7.0043) Grad: 173.4684\n",
      "Step 15,300 (N samples: 1,958,400), Loss: 142.7711 (Recon: 135.9951, KL: 6.7760) Grad: 290.0758\n",
      "Step 15,400 (N samples: 1,971,200), Loss: 134.4214 (Recon: 127.4056, KL: 7.0159) Grad: 292.0086\n"
     ]
    },
    {
     "data": {
      "application/vnd.jupyter.widget-view+json": {
       "model_id": "bb90a9e8edfd459281626de4a44db0db",
       "version_major": 2,
       "version_minor": 0
      },
      "text/plain": [
       "Testing:   0%|          | 0/79 [00:00<?, ?it/s]"
      ]
     },
     "metadata": {},
     "output_type": "display_data"
    },
    {
     "name": "stdout",
     "output_type": "stream",
     "text": [
      "====> Test set loss: 139.0649 (BCE: 132.1779, KLD: 6.8870)\n",
      "Epoch 34/50\n"
     ]
    },
    {
     "data": {
      "application/vnd.jupyter.widget-view+json": {
       "model_id": "0f24db28b55c4a739663c14c85e777f6",
       "version_major": 2,
       "version_minor": 0
      },
      "text/plain": [
       "  0%|          | 0/469 [00:00<?, ?it/s]"
      ]
     },
     "metadata": {},
     "output_type": "display_data"
    },
    {
     "name": "stdout",
     "output_type": "stream",
     "text": [
      "Step 15,500 (N samples: 1,984,000), Loss: 141.2879 (Recon: 134.2383, KL: 7.0497) Grad: 142.3941\n",
      "Step 15,600 (N samples: 1,996,800), Loss: 139.1589 (Recon: 132.5474, KL: 6.6115) Grad: 161.0765\n",
      "Step 15,700 (N samples: 2,009,600), Loss: 137.9120 (Recon: 131.0287, KL: 6.8833) Grad: 272.2241\n",
      "Step 15,800 (N samples: 2,022,400), Loss: 140.3739 (Recon: 133.4700, KL: 6.9039) Grad: 181.0802\n",
      "Step 15,900 (N samples: 2,035,200), Loss: 139.0695 (Recon: 132.3102, KL: 6.7593) Grad: 124.0641\n"
     ]
    },
    {
     "data": {
      "application/vnd.jupyter.widget-view+json": {
       "model_id": "282ace8996af408bb7e61dc30b637878",
       "version_major": 2,
       "version_minor": 0
      },
      "text/plain": [
       "Testing:   0%|          | 0/79 [00:00<?, ?it/s]"
      ]
     },
     "metadata": {},
     "output_type": "display_data"
    },
    {
     "name": "stdout",
     "output_type": "stream",
     "text": [
      "====> Test set loss: 138.7823 (BCE: 131.9189, KLD: 6.8635)\n",
      "Epoch 35/50\n"
     ]
    },
    {
     "data": {
      "application/vnd.jupyter.widget-view+json": {
       "model_id": "f36744c9e777477d8f4840fd0d56c07c",
       "version_major": 2,
       "version_minor": 0
      },
      "text/plain": [
       "  0%|          | 0/469 [00:00<?, ?it/s]"
      ]
     },
     "metadata": {},
     "output_type": "display_data"
    },
    {
     "name": "stdout",
     "output_type": "stream",
     "text": [
      "Step 16,000 (N samples: 2,048,000), Loss: 136.6344 (Recon: 129.4942, KL: 7.1401) Grad: 151.2647\n",
      "Step 16,100 (N samples: 2,060,800), Loss: 137.8632 (Recon: 131.0263, KL: 6.8369) Grad: 161.2270\n",
      "Step 16,200 (N samples: 2,073,600), Loss: 135.8145 (Recon: 128.9703, KL: 6.8442) Grad: 190.8249\n",
      "Step 16,300 (N samples: 2,086,400), Loss: 144.5781 (Recon: 137.6369, KL: 6.9412) Grad: 150.4037\n",
      "Step 16,400 (N samples: 2,099,200), Loss: 139.2262 (Recon: 132.4204, KL: 6.8058) Grad: 162.7284\n"
     ]
    },
    {
     "data": {
      "application/vnd.jupyter.widget-view+json": {
       "model_id": "9e598b8258364eb094a950d70354a36a",
       "version_major": 2,
       "version_minor": 0
      },
      "text/plain": [
       "Testing:   0%|          | 0/79 [00:00<?, ?it/s]"
      ]
     },
     "metadata": {},
     "output_type": "display_data"
    },
    {
     "name": "stdout",
     "output_type": "stream",
     "text": [
      "====> Test set loss: 142.0716 (BCE: 135.1389, KLD: 6.9326)\n",
      "Epoch 36/50\n"
     ]
    },
    {
     "data": {
      "application/vnd.jupyter.widget-view+json": {
       "model_id": "981a208388da444886ae06f44c09a0df",
       "version_major": 2,
       "version_minor": 0
      },
      "text/plain": [
       "  0%|          | 0/469 [00:00<?, ?it/s]"
      ]
     },
     "metadata": {},
     "output_type": "display_data"
    },
    {
     "name": "stdout",
     "output_type": "stream",
     "text": [
      "Step 16,500 (N samples: 2,112,000), Loss: 135.6707 (Recon: 128.7704, KL: 6.9003) Grad: 191.5507\n",
      "Step 16,600 (N samples: 2,124,800), Loss: 144.7944 (Recon: 137.7329, KL: 7.0615) Grad: 221.0404\n",
      "Step 16,700 (N samples: 2,137,600), Loss: 140.3764 (Recon: 133.4838, KL: 6.8926) Grad: 244.4754\n",
      "Step 16,800 (N samples: 2,150,400), Loss: 140.2790 (Recon: 133.2532, KL: 7.0258) Grad: 193.1051\n"
     ]
    },
    {
     "data": {
      "application/vnd.jupyter.widget-view+json": {
       "model_id": "144ddf41e37b472882cac83fb2b3229f",
       "version_major": 2,
       "version_minor": 0
      },
      "text/plain": [
       "Testing:   0%|          | 0/79 [00:00<?, ?it/s]"
      ]
     },
     "metadata": {},
     "output_type": "display_data"
    },
    {
     "name": "stdout",
     "output_type": "stream",
     "text": [
      "====> Test set loss: 139.8881 (BCE: 133.0158, KLD: 6.8723)\n",
      "Epoch 37/50\n"
     ]
    },
    {
     "data": {
      "application/vnd.jupyter.widget-view+json": {
       "model_id": "9b37f02d5c6e471d9fdbb02c32b1433e",
       "version_major": 2,
       "version_minor": 0
      },
      "text/plain": [
       "  0%|          | 0/469 [00:00<?, ?it/s]"
      ]
     },
     "metadata": {},
     "output_type": "display_data"
    },
    {
     "name": "stdout",
     "output_type": "stream",
     "text": [
      "Step 16,900 (N samples: 2,163,200), Loss: 137.0083 (Recon: 129.9551, KL: 7.0532) Grad: 297.1329\n",
      "Step 17,000 (N samples: 2,176,000), Loss: 139.6527 (Recon: 132.5732, KL: 7.0795) Grad: 163.5087\n",
      "Step 17,100 (N samples: 2,188,800), Loss: 139.9877 (Recon: 133.1133, KL: 6.8744) Grad: 181.2389\n",
      "Step 17,200 (N samples: 2,201,600), Loss: 143.2548 (Recon: 136.4375, KL: 6.8172) Grad: 205.1665\n",
      "Step 17,300 (N samples: 2,214,400), Loss: 138.0057 (Recon: 131.1732, KL: 6.8325) Grad: 301.0890\n"
     ]
    },
    {
     "data": {
      "application/vnd.jupyter.widget-view+json": {
       "model_id": "cd93227657cb4ad4ae6a301965c27324",
       "version_major": 2,
       "version_minor": 0
      },
      "text/plain": [
       "Testing:   0%|          | 0/79 [00:00<?, ?it/s]"
      ]
     },
     "metadata": {},
     "output_type": "display_data"
    },
    {
     "name": "stdout",
     "output_type": "stream",
     "text": [
      "====> Test set loss: 138.5752 (BCE: 131.6042, KLD: 6.9710)\n",
      "Epoch 38/50\n"
     ]
    },
    {
     "data": {
      "application/vnd.jupyter.widget-view+json": {
       "model_id": "b951459ba6b34eccb8c021817e939146",
       "version_major": 2,
       "version_minor": 0
      },
      "text/plain": [
       "  0%|          | 0/469 [00:00<?, ?it/s]"
      ]
     },
     "metadata": {},
     "output_type": "display_data"
    },
    {
     "name": "stdout",
     "output_type": "stream",
     "text": [
      "Step 17,400 (N samples: 2,227,200), Loss: 144.1372 (Recon: 137.0204, KL: 7.1169) Grad: 206.1942\n",
      "Step 17,500 (N samples: 2,240,000), Loss: 148.6056 (Recon: 141.4724, KL: 7.1332) Grad: 182.6704\n",
      "Step 17,600 (N samples: 2,252,800), Loss: 137.4461 (Recon: 130.3804, KL: 7.0657) Grad: 177.6006\n",
      "Step 17,700 (N samples: 2,265,600), Loss: 145.0603 (Recon: 138.1201, KL: 6.9402) Grad: 261.5391\n",
      "Step 17,800 (N samples: 2,278,400), Loss: 131.6288 (Recon: 124.6478, KL: 6.9810) Grad: 256.6345\n"
     ]
    },
    {
     "data": {
      "application/vnd.jupyter.widget-view+json": {
       "model_id": "c966072494ad491b9142ddbde6c4d0ac",
       "version_major": 2,
       "version_minor": 0
      },
      "text/plain": [
       "Testing:   0%|          | 0/79 [00:00<?, ?it/s]"
      ]
     },
     "metadata": {},
     "output_type": "display_data"
    },
    {
     "name": "stdout",
     "output_type": "stream",
     "text": [
      "====> Test set loss: 138.7147 (BCE: 131.6158, KLD: 7.0989)\n",
      "Epoch 39/50\n"
     ]
    },
    {
     "data": {
      "application/vnd.jupyter.widget-view+json": {
       "model_id": "a473f3c3e0ca42d1bdb52f93f592a0e9",
       "version_major": 2,
       "version_minor": 0
      },
      "text/plain": [
       "  0%|          | 0/469 [00:00<?, ?it/s]"
      ]
     },
     "metadata": {},
     "output_type": "display_data"
    },
    {
     "name": "stdout",
     "output_type": "stream",
     "text": [
      "Step 17,900 (N samples: 2,291,200), Loss: 136.4739 (Recon: 129.3519, KL: 7.1221) Grad: 162.6732\n",
      "Step 18,000 (N samples: 2,304,000), Loss: 137.7915 (Recon: 130.8107, KL: 6.9809) Grad: 244.2986\n",
      "Step 18,100 (N samples: 2,316,800), Loss: 131.2939 (Recon: 124.5954, KL: 6.6985) Grad: 198.3450\n",
      "Step 18,200 (N samples: 2,329,600), Loss: 140.6273 (Recon: 133.6004, KL: 7.0269) Grad: 268.6578\n"
     ]
    },
    {
     "data": {
      "application/vnd.jupyter.widget-view+json": {
       "model_id": "f052ff676ec74ad3ab85fd18c86ae3b7",
       "version_major": 2,
       "version_minor": 0
      },
      "text/plain": [
       "Testing:   0%|          | 0/79 [00:00<?, ?it/s]"
      ]
     },
     "metadata": {},
     "output_type": "display_data"
    },
    {
     "name": "stdout",
     "output_type": "stream",
     "text": [
      "====> Test set loss: 139.1382 (BCE: 132.1008, KLD: 7.0373)\n",
      "Epoch 40/50\n"
     ]
    },
    {
     "data": {
      "application/vnd.jupyter.widget-view+json": {
       "model_id": "1a856165a25547fdafe5d682763a48d3",
       "version_major": 2,
       "version_minor": 0
      },
      "text/plain": [
       "  0%|          | 0/469 [00:00<?, ?it/s]"
      ]
     },
     "metadata": {},
     "output_type": "display_data"
    },
    {
     "name": "stdout",
     "output_type": "stream",
     "text": [
      "Step 18,300 (N samples: 2,342,400), Loss: 146.6451 (Recon: 139.4935, KL: 7.1515) Grad: 188.8714\n",
      "Step 18,400 (N samples: 2,355,200), Loss: 141.5388 (Recon: 134.5852, KL: 6.9537) Grad: 261.8035\n",
      "Step 18,500 (N samples: 2,368,000), Loss: 136.3330 (Recon: 129.3398, KL: 6.9932) Grad: 241.9770\n",
      "Step 18,600 (N samples: 2,380,800), Loss: 135.9817 (Recon: 129.0835, KL: 6.8982) Grad: 141.4593\n",
      "Step 18,700 (N samples: 2,393,600), Loss: 137.0868 (Recon: 130.3548, KL: 6.7321) Grad: 192.1873\n"
     ]
    },
    {
     "data": {
      "application/vnd.jupyter.widget-view+json": {
       "model_id": "898c43717a954ca6ab11f7ef9abb2e0f",
       "version_major": 2,
       "version_minor": 0
      },
      "text/plain": [
       "Testing:   0%|          | 0/79 [00:00<?, ?it/s]"
      ]
     },
     "metadata": {},
     "output_type": "display_data"
    },
    {
     "name": "stdout",
     "output_type": "stream",
     "text": [
      "====> Test set loss: 139.6331 (BCE: 132.6244, KLD: 7.0087)\n",
      "Epoch 41/50\n"
     ]
    },
    {
     "data": {
      "application/vnd.jupyter.widget-view+json": {
       "model_id": "4de2d1d62ce44e41a08088d684cf6a38",
       "version_major": 2,
       "version_minor": 0
      },
      "text/plain": [
       "  0%|          | 0/469 [00:00<?, ?it/s]"
      ]
     },
     "metadata": {},
     "output_type": "display_data"
    },
    {
     "name": "stdout",
     "output_type": "stream",
     "text": [
      "Step 18,800 (N samples: 2,406,400), Loss: 146.3475 (Recon: 139.5323, KL: 6.8152) Grad: 182.2576\n",
      "Step 18,900 (N samples: 2,419,200), Loss: 133.8522 (Recon: 126.6173, KL: 7.2349) Grad: 224.9675\n",
      "Step 19,000 (N samples: 2,432,000), Loss: 135.1990 (Recon: 128.1456, KL: 7.0534) Grad: 146.1090\n",
      "Step 19,100 (N samples: 2,444,800), Loss: 143.4627 (Recon: 136.4969, KL: 6.9658) Grad: 210.6387\n",
      "Step 19,200 (N samples: 2,457,600), Loss: 131.9910 (Recon: 125.1065, KL: 6.8844) Grad: 134.2745\n"
     ]
    },
    {
     "data": {
      "application/vnd.jupyter.widget-view+json": {
       "model_id": "a47e87c58aea4c9eb1bbf81007a58a97",
       "version_major": 2,
       "version_minor": 0
      },
      "text/plain": [
       "Testing:   0%|          | 0/79 [00:00<?, ?it/s]"
      ]
     },
     "metadata": {},
     "output_type": "display_data"
    },
    {
     "name": "stdout",
     "output_type": "stream",
     "text": [
      "====> Test set loss: 139.2267 (BCE: 132.3639, KLD: 6.8628)\n",
      "Epoch 42/50\n"
     ]
    },
    {
     "data": {
      "application/vnd.jupyter.widget-view+json": {
       "model_id": "aa461d72cd9349eba9cc18671bd11742",
       "version_major": 2,
       "version_minor": 0
      },
      "text/plain": [
       "  0%|          | 0/469 [00:00<?, ?it/s]"
      ]
     },
     "metadata": {},
     "output_type": "display_data"
    },
    {
     "name": "stdout",
     "output_type": "stream",
     "text": [
      "Step 19,300 (N samples: 2,470,400), Loss: 134.5323 (Recon: 127.4416, KL: 7.0907) Grad: 298.0738\n",
      "Step 19,400 (N samples: 2,483,200), Loss: 132.8495 (Recon: 125.9128, KL: 6.9367) Grad: 211.1524\n",
      "Step 19,500 (N samples: 2,496,000), Loss: 138.4611 (Recon: 131.5505, KL: 6.9105) Grad: 125.8149\n",
      "Step 19,600 (N samples: 2,508,800), Loss: 145.8018 (Recon: 138.7546, KL: 7.0472) Grad: 244.6834\n"
     ]
    },
    {
     "data": {
      "application/vnd.jupyter.widget-view+json": {
       "model_id": "cb3435d7ca3f449485723ad19ed8a7b0",
       "version_major": 2,
       "version_minor": 0
      },
      "text/plain": [
       "Testing:   0%|          | 0/79 [00:00<?, ?it/s]"
      ]
     },
     "metadata": {},
     "output_type": "display_data"
    },
    {
     "name": "stdout",
     "output_type": "stream",
     "text": [
      "====> Test set loss: 140.6741 (BCE: 133.7271, KLD: 6.9470)\n",
      "Epoch 43/50\n"
     ]
    },
    {
     "data": {
      "application/vnd.jupyter.widget-view+json": {
       "model_id": "72d4c25863f04be5b111efb891b8e856",
       "version_major": 2,
       "version_minor": 0
      },
      "text/plain": [
       "  0%|          | 0/469 [00:00<?, ?it/s]"
      ]
     },
     "metadata": {},
     "output_type": "display_data"
    },
    {
     "name": "stdout",
     "output_type": "stream",
     "text": [
      "Step 19,700 (N samples: 2,521,600), Loss: 134.3738 (Recon: 127.2821, KL: 7.0917) Grad: 159.6683\n",
      "Step 19,800 (N samples: 2,534,400), Loss: 140.0966 (Recon: 133.2975, KL: 6.7991) Grad: 203.2262\n",
      "Step 19,900 (N samples: 2,547,200), Loss: 137.8196 (Recon: 131.0253, KL: 6.7943) Grad: 167.3367\n",
      "Step 20,000 (N samples: 2,560,000), Loss: 134.9753 (Recon: 127.9583, KL: 7.0170) Grad: 225.2007\n",
      "Step 20,100 (N samples: 2,572,800), Loss: 141.2421 (Recon: 134.1978, KL: 7.0443) Grad: 169.9604\n"
     ]
    },
    {
     "data": {
      "application/vnd.jupyter.widget-view+json": {
       "model_id": "2a4f93bc91114a298a7fa79d18650c72",
       "version_major": 2,
       "version_minor": 0
      },
      "text/plain": [
       "Testing:   0%|          | 0/79 [00:00<?, ?it/s]"
      ]
     },
     "metadata": {},
     "output_type": "display_data"
    },
    {
     "name": "stdout",
     "output_type": "stream",
     "text": [
      "====> Test set loss: 138.5452 (BCE: 131.5408, KLD: 7.0045)\n",
      "Epoch 44/50\n"
     ]
    },
    {
     "data": {
      "application/vnd.jupyter.widget-view+json": {
       "model_id": "abf6f86d4e78488f834bf6a0ce272a61",
       "version_major": 2,
       "version_minor": 0
      },
      "text/plain": [
       "  0%|          | 0/469 [00:00<?, ?it/s]"
      ]
     },
     "metadata": {},
     "output_type": "display_data"
    },
    {
     "name": "stdout",
     "output_type": "stream",
     "text": [
      "Step 20,200 (N samples: 2,585,600), Loss: 135.3779 (Recon: 128.2294, KL: 7.1485) Grad: 128.2223\n",
      "Step 20,300 (N samples: 2,598,400), Loss: 137.1901 (Recon: 130.1745, KL: 7.0156) Grad: 264.6237\n",
      "Step 20,400 (N samples: 2,611,200), Loss: 146.7372 (Recon: 139.5878, KL: 7.1494) Grad: 134.3305\n",
      "Step 20,500 (N samples: 2,624,000), Loss: 135.9238 (Recon: 129.1396, KL: 6.7842) Grad: 255.3852\n",
      "Step 20,600 (N samples: 2,636,800), Loss: 135.2902 (Recon: 128.2280, KL: 7.0622) Grad: 193.4545\n"
     ]
    },
    {
     "data": {
      "application/vnd.jupyter.widget-view+json": {
       "model_id": "d892212ea4e7443283004ef99ca92b76",
       "version_major": 2,
       "version_minor": 0
      },
      "text/plain": [
       "Testing:   0%|          | 0/79 [00:00<?, ?it/s]"
      ]
     },
     "metadata": {},
     "output_type": "display_data"
    },
    {
     "name": "stdout",
     "output_type": "stream",
     "text": [
      "====> Test set loss: 139.4479 (BCE: 132.5194, KLD: 6.9285)\n",
      "Epoch 45/50\n"
     ]
    },
    {
     "data": {
      "application/vnd.jupyter.widget-view+json": {
       "model_id": "c6208ebe74c1403dad62c86d9307f104",
       "version_major": 2,
       "version_minor": 0
      },
      "text/plain": [
       "  0%|          | 0/469 [00:00<?, ?it/s]"
      ]
     },
     "metadata": {},
     "output_type": "display_data"
    },
    {
     "name": "stdout",
     "output_type": "stream",
     "text": [
      "Step 20,700 (N samples: 2,649,600), Loss: 135.3078 (Recon: 128.2979, KL: 7.0100) Grad: 181.9530\n",
      "Step 20,800 (N samples: 2,662,400), Loss: 144.6367 (Recon: 137.5619, KL: 7.0748) Grad: 221.2194\n",
      "Step 20,900 (N samples: 2,675,200), Loss: 141.6207 (Recon: 134.7439, KL: 6.8768) Grad: 195.2931\n",
      "Step 21,000 (N samples: 2,688,000), Loss: 129.3800 (Recon: 122.3626, KL: 7.0174) Grad: 188.9311\n",
      "Step 21,100 (N samples: 2,700,800), Loss: 138.4657 (Recon: 131.5356, KL: 6.9301) Grad: 201.3293\n"
     ]
    },
    {
     "data": {
      "application/vnd.jupyter.widget-view+json": {
       "model_id": "db78a7bb2dfd4c528df9ea0a1f858c1b",
       "version_major": 2,
       "version_minor": 0
      },
      "text/plain": [
       "Testing:   0%|          | 0/79 [00:00<?, ?it/s]"
      ]
     },
     "metadata": {},
     "output_type": "display_data"
    },
    {
     "name": "stdout",
     "output_type": "stream",
     "text": [
      "====> Test set loss: 138.8583 (BCE: 131.9053, KLD: 6.9529)\n",
      "Epoch 46/50\n"
     ]
    },
    {
     "data": {
      "application/vnd.jupyter.widget-view+json": {
       "model_id": "ace6b47c033648aea3d0a0021d3f5e4d",
       "version_major": 2,
       "version_minor": 0
      },
      "text/plain": [
       "  0%|          | 0/469 [00:00<?, ?it/s]"
      ]
     },
     "metadata": {},
     "output_type": "display_data"
    },
    {
     "name": "stdout",
     "output_type": "stream",
     "text": [
      "Step 21,200 (N samples: 2,713,600), Loss: 139.5400 (Recon: 132.5030, KL: 7.0369) Grad: 274.5760\n",
      "Step 21,300 (N samples: 2,726,400), Loss: 130.2071 (Recon: 123.0790, KL: 7.1281) Grad: 155.9933\n",
      "Step 21,400 (N samples: 2,739,200), Loss: 130.2646 (Recon: 123.3248, KL: 6.9397) Grad: 146.3146\n",
      "Step 21,500 (N samples: 2,752,000), Loss: 141.9529 (Recon: 134.9428, KL: 7.0101) Grad: 193.0449\n"
     ]
    },
    {
     "data": {
      "application/vnd.jupyter.widget-view+json": {
       "model_id": "1b076d6e7bd94333b47b36f1fd7fddbe",
       "version_major": 2,
       "version_minor": 0
      },
      "text/plain": [
       "Testing:   0%|          | 0/79 [00:00<?, ?it/s]"
      ]
     },
     "metadata": {},
     "output_type": "display_data"
    },
    {
     "name": "stdout",
     "output_type": "stream",
     "text": [
      "====> Test set loss: 137.8239 (BCE: 130.8156, KLD: 7.0083)\n",
      "Epoch 47/50\n"
     ]
    },
    {
     "data": {
      "application/vnd.jupyter.widget-view+json": {
       "model_id": "c88348ccf5064c89b696c7e02235bbab",
       "version_major": 2,
       "version_minor": 0
      },
      "text/plain": [
       "  0%|          | 0/469 [00:00<?, ?it/s]"
      ]
     },
     "metadata": {},
     "output_type": "display_data"
    },
    {
     "name": "stdout",
     "output_type": "stream",
     "text": [
      "Step 21,600 (N samples: 2,764,800), Loss: 138.1637 (Recon: 130.8964, KL: 7.2674) Grad: 169.0619\n",
      "Step 21,700 (N samples: 2,777,600), Loss: 133.1961 (Recon: 126.4815, KL: 6.7147) Grad: 250.9442\n",
      "Step 21,800 (N samples: 2,790,400), Loss: 137.8016 (Recon: 130.8701, KL: 6.9316) Grad: 216.4257\n",
      "Step 21,900 (N samples: 2,803,200), Loss: 137.0255 (Recon: 130.1995, KL: 6.8260) Grad: 165.9580\n",
      "Step 22,000 (N samples: 2,816,000), Loss: 141.6977 (Recon: 134.4420, KL: 7.2558) Grad: 231.6982\n"
     ]
    },
    {
     "data": {
      "application/vnd.jupyter.widget-view+json": {
       "model_id": "306dbfebba1b42ae84fd5a0cf6e5d35f",
       "version_major": 2,
       "version_minor": 0
      },
      "text/plain": [
       "Testing:   0%|          | 0/79 [00:00<?, ?it/s]"
      ]
     },
     "metadata": {},
     "output_type": "display_data"
    },
    {
     "name": "stdout",
     "output_type": "stream",
     "text": [
      "====> Test set loss: 139.5577 (BCE: 132.5383, KLD: 7.0193)\n",
      "Epoch 48/50\n"
     ]
    },
    {
     "data": {
      "application/vnd.jupyter.widget-view+json": {
       "model_id": "18ff66a2c5814c72a339ba85a725390d",
       "version_major": 2,
       "version_minor": 0
      },
      "text/plain": [
       "  0%|          | 0/469 [00:00<?, ?it/s]"
      ]
     },
     "metadata": {},
     "output_type": "display_data"
    },
    {
     "name": "stdout",
     "output_type": "stream",
     "text": [
      "Step 22,100 (N samples: 2,828,800), Loss: 139.2462 (Recon: 132.1470, KL: 7.0992) Grad: 321.7804\n",
      "Step 22,200 (N samples: 2,841,600), Loss: 148.0981 (Recon: 140.9734, KL: 7.1247) Grad: 154.5023\n",
      "Step 22,300 (N samples: 2,854,400), Loss: 149.3755 (Recon: 142.2047, KL: 7.1708) Grad: 162.0393\n",
      "Step 22,400 (N samples: 2,867,200), Loss: 139.1875 (Recon: 132.1457, KL: 7.0419) Grad: 276.0492\n",
      "Step 22,500 (N samples: 2,880,000), Loss: 141.1733 (Recon: 134.2802, KL: 6.8931) Grad: 143.9864\n"
     ]
    },
    {
     "data": {
      "application/vnd.jupyter.widget-view+json": {
       "model_id": "58419289974a47f88abab5b3cd6c4d1d",
       "version_major": 2,
       "version_minor": 0
      },
      "text/plain": [
       "Testing:   0%|          | 0/79 [00:00<?, ?it/s]"
      ]
     },
     "metadata": {},
     "output_type": "display_data"
    },
    {
     "name": "stdout",
     "output_type": "stream",
     "text": [
      "====> Test set loss: 137.9019 (BCE: 130.7905, KLD: 7.1113)\n",
      "Epoch 49/50\n"
     ]
    },
    {
     "data": {
      "application/vnd.jupyter.widget-view+json": {
       "model_id": "6340c43de2b94eecbd2e2eb9d00a5748",
       "version_major": 2,
       "version_minor": 0
      },
      "text/plain": [
       "  0%|          | 0/469 [00:00<?, ?it/s]"
      ]
     },
     "metadata": {},
     "output_type": "display_data"
    },
    {
     "name": "stdout",
     "output_type": "stream",
     "text": [
      "Step 22,600 (N samples: 2,892,800), Loss: 150.9074 (Recon: 143.8036, KL: 7.1038) Grad: 322.6090\n",
      "Step 22,700 (N samples: 2,905,600), Loss: 140.4031 (Recon: 133.5705, KL: 6.8325) Grad: 230.5502\n",
      "Step 22,800 (N samples: 2,918,400), Loss: 142.7994 (Recon: 135.9627, KL: 6.8367) Grad: 320.2472\n",
      "Step 22,900 (N samples: 2,931,200), Loss: 134.9287 (Recon: 127.9172, KL: 7.0116) Grad: 197.4471\n"
     ]
    },
    {
     "data": {
      "application/vnd.jupyter.widget-view+json": {
       "model_id": "4f099a2ec563427aa444075fcd3bd9e7",
       "version_major": 2,
       "version_minor": 0
      },
      "text/plain": [
       "Testing:   0%|          | 0/79 [00:00<?, ?it/s]"
      ]
     },
     "metadata": {},
     "output_type": "display_data"
    },
    {
     "name": "stdout",
     "output_type": "stream",
     "text": [
      "====> Test set loss: 138.6982 (BCE: 131.8067, KLD: 6.8915)\n",
      "Epoch 50/50\n"
     ]
    },
    {
     "data": {
      "application/vnd.jupyter.widget-view+json": {
       "model_id": "25e516cc295d4b2da6b3508ddf12a333",
       "version_major": 2,
       "version_minor": 0
      },
      "text/plain": [
       "  0%|          | 0/469 [00:00<?, ?it/s]"
      ]
     },
     "metadata": {},
     "output_type": "display_data"
    },
    {
     "name": "stdout",
     "output_type": "stream",
     "text": [
      "Step 23,000 (N samples: 2,944,000), Loss: 138.1967 (Recon: 130.9744, KL: 7.2224) Grad: 188.3822\n",
      "Step 23,100 (N samples: 2,956,800), Loss: 141.1201 (Recon: 134.0105, KL: 7.1097) Grad: 205.0318\n",
      "Step 23,200 (N samples: 2,969,600), Loss: 141.7394 (Recon: 134.6917, KL: 7.0477) Grad: 244.0997\n",
      "Step 23,300 (N samples: 2,982,400), Loss: 136.4604 (Recon: 129.3748, KL: 7.0857) Grad: 243.5632\n",
      "Step 23,400 (N samples: 2,995,200), Loss: 138.6389 (Recon: 131.4928, KL: 7.1460) Grad: 212.0265\n"
     ]
    },
    {
     "data": {
      "application/vnd.jupyter.widget-view+json": {
       "model_id": "6efe9826b80b49c8ae1cd925750a8020",
       "version_major": 2,
       "version_minor": 0
      },
      "text/plain": [
       "Testing:   0%|          | 0/79 [00:00<?, ?it/s]"
      ]
     },
     "metadata": {},
     "output_type": "display_data"
    },
    {
     "name": "stdout",
     "output_type": "stream",
     "text": [
      "====> Test set loss: 138.7209 (BCE: 131.6898, KLD: 7.0311)\n"
     ]
    }
   ],
   "source": [
    "prev_updates = 0\n",
    "for epoch in range(num_epochs):\n",
    "    print(f'Epoch {epoch+1}/{num_epochs}')\n",
    "    prev_updates = train(model, train_loader, optimizer, prev_updates, writer=writer)\n",
    "    test(model, test_loader, prev_updates, writer=writer)"
   ]
  },
  {
   "cell_type": "code",
   "execution_count": null,
   "metadata": {},
   "outputs": [],
   "source": []
  },
  {
   "cell_type": "code",
   "execution_count": 14,
   "metadata": {},
   "outputs": [
    {
     "data": {
      "application/vnd.jupyter.widget-view+json": {
       "model_id": "2905d62fabc44d4cbfd34640de923385",
       "version_major": 2,
       "version_minor": 0
      },
      "text/plain": [
       "Encoding:   0%|          | 0/469 [00:00<?, ?it/s]"
      ]
     },
     "metadata": {},
     "output_type": "display_data"
    }
   ],
   "source": [
    "# encode and plot the z values for the train set \n",
    "model.eval()\n",
    "z_all = []\n",
    "y_all = []\n",
    "with torch.no_grad():\n",
    "    for data, target in tqdm(train_loader, desc='Encoding'):\n",
    "        data = data.to(device)\n",
    "        output = model(data, compute_loss=False)\n",
    "        z_all.append(output.z_sample.cpu().numpy())\n",
    "        y_all.append(target.numpy())"
   ]
  },
  {
   "cell_type": "code",
   "execution_count": 15,
   "metadata": {},
   "outputs": [],
   "source": [
    "import numpy as np\n",
    "z_all = np.concatenate(z_all, axis=0)\n",
    "y_all = np.concatenate(y_all, axis=0)"
   ]
  },
  {
   "cell_type": "code",
   "execution_count": 16,
   "metadata": {},
   "outputs": [
    {
     "data": {
      "image/png": "[encoded data removed]",
      "text/plain": [
       "<Figure size 1000x1000 with 2 Axes>"
      ]
     },
     "metadata": {},
     "output_type": "display_data"
    }
   ],
   "source": [
    "plt.figure(figsize=(10, 10))\n",
    "plt.scatter(z_all[:, 0], z_all[:, 1], c=y_all, cmap='tab10')\n",
    "plt.colorbar()\n",
    "# plt.show()\n",
    "plt.savefig('vae_mnist_2d_scatter.webp')"
   ]
  },
  {
   "cell_type": "code",
   "execution_count": 17,
   "metadata": {},
   "outputs": [
    {
     "data": {
      "image/png": "[encoded data removed]",
      "text/plain": [
       "<Figure size 1000x1000 with 2 Axes>"
      ]
     },
     "metadata": {},
     "output_type": "display_data"
    }
   ],
   "source": [
    "\n",
    "# plot as 2d histogram, log scale\n",
    "from matplotlib.colors import LogNorm\n",
    "plt.figure(figsize=(10, 10))\n",
    "plt.hist2d(z_all[:, 0], z_all[:, 1], bins=128, cmap='Blues', norm=LogNorm())\n",
    "plt.colorbar()\n",
    "# plt.show()\n",
    "plt.savefig('vae_mnist_2d_hist.webp')"
   ]
  }
 ],
 "metadata": {
  "kernelspec": {
   "display_name": "Python 3 (ipykernel)",
   "language": "python",
   "name": "python3"
  },
  "language_info": {
   "codemirror_mode": {
    "name": "ipython",
    "version": 3
   },
   "file_extension": ".py",
   "mimetype": "text/x-python",
   "name": "python",
   "nbconvert_exporter": "python",
   "pygments_lexer": "ipython3",
   "version": "3.13.1"
  }
 },
 "nbformat": 4,
 "nbformat_minor": 4
}
